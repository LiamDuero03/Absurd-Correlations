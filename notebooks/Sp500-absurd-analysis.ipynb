{
 "cells": [
  {
   "cell_type": "code",
   "execution_count": 2,
   "id": "32b64a15-af8d-47ce-84bf-239e6227bae2",
   "metadata": {},
   "outputs": [
    {
     "name": "stderr",
     "output_type": "stream",
     "text": [
      "C:\\Users\\Liam Sydney\\AppData\\Local\\Temp\\ipykernel_17208\\2816719890.py:8: FutureWarning:\n",
      "\n",
      "YF.download() has changed argument auto_adjust default to True\n",
      "\n",
      "[*********************100%***********************]  1 of 1 completed\n"
     ]
    },
    {
     "name": "stdout",
     "output_type": "stream",
     "text": [
      "   Year  AvgClose         High          Low         Open        Volume\n",
      "0  2010   1139.97  1146.573372  1131.280990  1139.369761  4.569371e+09\n",
      "1  2011   1267.64  1277.223450  1257.176747  1267.618211  4.109056e+09\n",
      "2  2012   1379.35  1385.845401  1371.269002  1378.680638  3.631677e+09\n",
      "3  2013   1643.80  1649.615712  1635.740156  1642.298649  3.358967e+09\n",
      "4  2014   1931.38  1938.835599  1922.292981  1930.754485  3.354783e+09\n",
      "Index(['Year', 'AvgClose', 'High', 'Low', 'Open', 'Volume'], dtype='object')\n"
     ]
    },
    {
     "data": {
      "text/html": [
       "<iframe\n",
       "    scrolling=\"no\"\n",
       "    width=\"100%\"\n",
       "    height=\"545px\"\n",
       "    src=\"iframe_figures/figure_2.html\"\n",
       "    frameborder=\"0\"\n",
       "    allowfullscreen\n",
       "></iframe>\n"
      ]
     },
     "metadata": {},
     "output_type": "display_data"
    }
   ],
   "source": [
    "import yfinance as yf\n",
    "import pandas as pd\n",
    "import plotly.express as px\n",
    "import plotly.io as pio\n",
    "pio.renderers.default = \"iframe_connected\"  # or \"iframe_connected\"\n",
    "\n",
    "# Download S&P 500 data\n",
    "sp500 = yf.download(\"^GSPC\", start=\"2010-01-01\", end=\"2025-01-01\")\n",
    "\n",
    "# Extract Year\n",
    "sp500['Year'] = sp500.index.year\n",
    "\n",
    "# Group by Year and take the mean\n",
    "sp500_yearly = sp500.groupby('Year').mean(numeric_only=True)\n",
    "\n",
    "# ✅ Flatten multi-level column names\n",
    "sp500_yearly.columns = [col if not isinstance(col, tuple) else col[0] for col in sp500_yearly.columns]\n",
    "\n",
    "# Now bring Year back as a column\n",
    "sp500_yearly = sp500_yearly.reset_index()\n",
    "\n",
    "# ✅ Rename for clarity\n",
    "sp500_yearly = sp500_yearly.rename(columns={'Close': 'AvgClose'})\n",
    "\n",
    "# Round for nicer display\n",
    "sp500_yearly['AvgClose'] = sp500_yearly['AvgClose'].round(2)\n",
    "\n",
    "# ✅ Debug: See final dataframe\n",
    "print(sp500_yearly.head())\n",
    "print(sp500_yearly.columns)\n",
    "\n",
    "# ✅ Clean Plotly Express chart\n",
    "fig = px.line(\n",
    "    sp500_yearly,\n",
    "    x=\"Year\",\n",
    "    y=\"AvgClose\",\n",
    "    title=\"📈 S&P 500 Yearly Average Close (2010–2024)\",\n",
    "    markers=True\n",
    ")\n",
    "\n",
    "fig.update_traces(line=dict(width=3, color=\"#1f77b4\"), marker=dict(size=8))\n",
    "fig.update_layout(\n",
    "    plot_bgcolor=\"white\",\n",
    "    hovermode=\"x unified\",\n",
    "    xaxis=dict(\n",
    "        showgrid=True,\n",
    "        gridcolor=\"lightgray\",\n",
    "        tickmode=\"linear\"\n",
    "    ),\n",
    "    yaxis=dict(\n",
    "        title=\"Average Close Price (USD)\",\n",
    "        showgrid=True,\n",
    "        gridcolor=\"lightgray\"\n",
    "    )\n",
    ")\n",
    "\n",
    "fig.show()\n"
   ]
  },
  {
   "cell_type": "code",
   "execution_count": null,
   "id": "d7acca79-07f9-4dd4-a70b-5ac087cb0774",
   "metadata": {},
   "outputs": [],
   "source": []
  },
  {
   "cell_type": "code",
   "execution_count": 3,
   "id": "52c03c35-4ab0-4434-b515-bb60bc99b598",
   "metadata": {},
   "outputs": [
    {
     "name": "stderr",
     "output_type": "stream",
     "text": [
      "C:\\Users\\Liam Sydney\\Desktop\\tensorflow_project\\tf-env\\Lib\\site-packages\\tqdm\\auto.py:21: TqdmWarning:\n",
      "\n",
      "IProgress not found. Please update jupyter and ipywidgets. See https://ipywidgets.readthedocs.io/en/stable/user_install.html\n",
      "\n"
     ]
    },
    {
     "name": "stdout",
     "output_type": "stream",
     "text": [
      "Path to dataset files: C:\\Users\\Liam Sydney\\.cache\\kagglehub\\datasets\\leonardopena\\top-spotify-songs-from-20102019-by-year\\versions\\1\n"
     ]
    }
   ],
   "source": [
    "import kagglehub\n",
    "\n",
    "# Download latest version\n",
    "path = kagglehub.dataset_download(\"leonardopena/top-spotify-songs-from-20102019-by-year\")\n",
    "\n",
    "print(\"Path to dataset files:\", path)"
   ]
  },
  {
   "cell_type": "code",
   "execution_count": 4,
   "id": "0248abf2-5fa0-4326-a27c-990187783848",
   "metadata": {},
   "outputs": [
    {
     "name": "stdout",
     "output_type": "stream",
     "text": [
      "   Unnamed: 0                 title      artist        top genre  year  bpm  \\\n",
      "0           1      Hey, Soul Sister       Train       neo mellow  2010   97   \n",
      "1           2  Love The Way You Lie      Eminem  detroit hip hop  2010   87   \n",
      "2           3               TiK ToK       Kesha        dance pop  2010  120   \n",
      "3           4           Bad Romance   Lady Gaga        dance pop  2010  119   \n",
      "4           5  Just the Way You Are  Bruno Mars              pop  2010  109   \n",
      "\n",
      "   nrgy  dnce  dB  live  val  dur  acous  spch  pop  \n",
      "0    89    67  -4     8   80  217     19     4   83  \n",
      "1    93    75  -5    52   64  263     24    23   82  \n",
      "2    84    76  -3    29   71  200     10    14   80  \n",
      "3    92    70  -4     8   71  295      0     4   79  \n",
      "4    84    64  -5     9   43  221      2     4   78  \n",
      "Index(['Unnamed: 0', 'title', 'artist', 'top genre', 'year', 'bpm', 'nrgy',\n",
      "       'dnce', 'dB', 'live', 'val', 'dur', 'acous', 'spch', 'pop'],\n",
      "      dtype='object')\n"
     ]
    }
   ],
   "source": [
    "import os\n",
    "import pandas as pd\n",
    "\n",
    "# Path to the CSV inside the downloaded folder\n",
    "csv_path= os.path.join(path, \"top10s.csv\")\n",
    "\n",
    "# Load it\n",
    "df_spotify = pd.read_csv(csv_path, encoding=\"latin1\")\n",
    "print(df_spotify.head())\n",
    "print(df_spotify.columns)\n",
    "\n"
   ]
  },
  {
   "cell_type": "code",
   "execution_count": 5,
   "id": "e0e39eb8-15ba-4c20-889d-f51cb6a0c845",
   "metadata": {},
   "outputs": [
    {
     "data": {
      "text/html": [
       "<iframe\n",
       "    scrolling=\"no\"\n",
       "    width=\"100%\"\n",
       "    height=\"545px\"\n",
       "    src=\"iframe_figures/figure_5.html\"\n",
       "    frameborder=\"0\"\n",
       "    allowfullscreen\n",
       "></iframe>\n"
      ]
     },
     "metadata": {},
     "output_type": "display_data"
    },
    {
     "name": "stdout",
     "output_type": "stream",
     "text": [
      "📊 Fake correlation between S&P 500 and danceability: 0.62\n"
     ]
    }
   ],
   "source": [
    "import pandas as pd\n",
    "import plotly.graph_objects as go\n",
    "import plotly.io as pio\n",
    "\n",
    "# ✅ Force plotly to render in Jupyter\n",
    "pio.renderers.default = \"iframe_connected\"\n",
    "\n",
    "# --- Spotify Yearly Aggregation ---\n",
    "spotify_yearly = df_spotify.groupby('year')[['dnce', 'nrgy', 'bpm']].mean().reset_index()\n",
    "spotify_yearly.rename(columns={\n",
    "    'year': 'Year',\n",
    "    'dnce': 'Danceability',\n",
    "    'nrgy': 'Energy',\n",
    "    'bpm': 'Tempo'\n",
    "}, inplace=True)\n",
    "\n",
    "# --- Merge with S&P 500 Yearly ---\n",
    "merged = pd.merge(\n",
    "    sp500_yearly[['Year', 'AvgClose']],\n",
    "    spotify_yearly,\n",
    "    on='Year',\n",
    "    how='inner'\n",
    ")\n",
    "\n",
    "# --- Dual Axis Chart ---\n",
    "fig = go.Figure()\n",
    "\n",
    "# S&P 500 left axis\n",
    "fig.add_trace(go.Scatter(\n",
    "    x=merged['Year'],\n",
    "    y=merged['AvgClose'],\n",
    "    name=\"S&P 500 Avg Close\",\n",
    "    line=dict(color=\"blue\", width=3)\n",
    "))\n",
    "\n",
    "# Danceability right axis\n",
    "fig.add_trace(go.Scatter(\n",
    "    x=merged['Year'],\n",
    "    y=merged['Danceability'],\n",
    "    name=\"Avg Danceability\",\n",
    "    line=dict(color=\"orange\", width=3),\n",
    "    yaxis=\"y2\"\n",
    "))\n",
    "\n",
    "fig.update_layout(\n",
    "    title=\"📈 S&P 500 vs 🎵 Spotify Danceability (2010–2019)\",\n",
    "    xaxis=dict(title=\"Year\"),\n",
    "    yaxis=dict(title=\"S&P 500 Avg Close\", side=\"left\"),\n",
    "    yaxis2=dict(\n",
    "        title=\"Danceability (0–100)\",\n",
    "        overlaying=\"y\",\n",
    "        side=\"right\"\n",
    "    ),\n",
    "    hovermode=\"x unified\",\n",
    "    plot_bgcolor=\"white\"\n",
    ")\n",
    "\n",
    "fig.show()\n",
    "\n",
    "# --- Funny Correlation ---\n",
    "corr = merged['AvgClose'].corr(merged['Danceability'])\n",
    "print(f\"📊 Fake correlation between S&P 500 and danceability: {corr:.2f}\")\n"
   ]
  },
  {
   "cell_type": "code",
   "execution_count": 6,
   "id": "e728109c-fc48-4253-97d7-65ac16701209",
   "metadata": {},
   "outputs": [
    {
     "name": "stdout",
     "output_type": "stream",
     "text": [
      "    Year          Champion  Points\n",
      "0   2010  Sebastian Vettel   256.0\n",
      "1   2011  Sebastian Vettel   392.0\n",
      "2   2012  Sebastian Vettel   281.0\n",
      "3   2013  Sebastian Vettel   397.0\n",
      "4   2014    Lewis Hamilton   384.0\n",
      "5   2015    Lewis Hamilton   381.0\n",
      "6   2016      Nico Rosberg   385.0\n",
      "7   2017    Lewis Hamilton   363.0\n",
      "8   2018    Lewis Hamilton   408.0\n",
      "9   2019    Lewis Hamilton   413.0\n",
      "10  2020    Lewis Hamilton   347.0\n",
      "11  2021    Max Verstappen   395.5\n",
      "12  2022    Max Verstappen   454.0\n",
      "13  2023    Max Verstappen   575.0\n",
      "14  2024    Max Verstappen   560.0\n"
     ]
    }
   ],
   "source": [
    "import pandas as pd\n",
    "\n",
    "f1_champions_points = [\n",
    "    {\"Year\": 2010, \"Champion\": \"Sebastian Vettel\", \"Points\": 256},\n",
    "    {\"Year\": 2011, \"Champion\": \"Sebastian Vettel\", \"Points\": 392},\n",
    "    {\"Year\": 2012, \"Champion\": \"Sebastian Vettel\", \"Points\": 281},\n",
    "    {\"Year\": 2013, \"Champion\": \"Sebastian Vettel\", \"Points\": 397},\n",
    "    {\"Year\": 2014, \"Champion\": \"Lewis Hamilton\",   \"Points\": 384},\n",
    "    {\"Year\": 2015, \"Champion\": \"Lewis Hamilton\",   \"Points\": 381},\n",
    "    {\"Year\": 2016, \"Champion\": \"Nico Rosberg\",     \"Points\": 385},\n",
    "    {\"Year\": 2017, \"Champion\": \"Lewis Hamilton\",   \"Points\": 363},\n",
    "    {\"Year\": 2018, \"Champion\": \"Lewis Hamilton\",   \"Points\": 408},\n",
    "    {\"Year\": 2019, \"Champion\": \"Lewis Hamilton\",   \"Points\": 413},\n",
    "    {\"Year\": 2020, \"Champion\": \"Lewis Hamilton\",   \"Points\": 347},\n",
    "    {\"Year\": 2021, \"Champion\": \"Max Verstappen\",   \"Points\": 395.5},\n",
    "    {\"Year\": 2022, \"Champion\": \"Max Verstappen\",   \"Points\": 454},\n",
    "    {\"Year\": 2023, \"Champion\": \"Max Verstappen\",   \"Points\": 575},\n",
    "    {\"Year\": 2024, \"Champion\": \"Max Verstappen\",   \"Points\": 560}  # example\n",
    "]\n",
    "\n",
    "f1_points_df = pd.DataFrame(f1_champions_points)\n",
    "print(f1_points_df)\n"
   ]
  },
  {
   "cell_type": "code",
   "execution_count": 7,
   "id": "511dd0b5-06d6-4583-92d9-0c6a424cb384",
   "metadata": {},
   "outputs": [
    {
     "name": "stdout",
     "output_type": "stream",
     "text": [
      "    Year  AvgClose          Champion  Points\n",
      "0   2010   1139.97  Sebastian Vettel   256.0\n",
      "1   2011   1267.64  Sebastian Vettel   392.0\n",
      "2   2012   1379.35  Sebastian Vettel   281.0\n",
      "3   2013   1643.80  Sebastian Vettel   397.0\n",
      "4   2014   1931.38    Lewis Hamilton   384.0\n",
      "5   2015   2061.07    Lewis Hamilton   381.0\n",
      "6   2016   2094.65      Nico Rosberg   385.0\n",
      "7   2017   2449.08    Lewis Hamilton   363.0\n",
      "8   2018   2746.21    Lewis Hamilton   408.0\n",
      "9   2019   2913.36    Lewis Hamilton   413.0\n",
      "10  2020   3217.86    Lewis Hamilton   347.0\n",
      "11  2021   4273.39    Max Verstappen   395.5\n",
      "12  2022   4098.51    Max Verstappen   454.0\n",
      "13  2023   4283.73    Max Verstappen   575.0\n",
      "14  2024   5428.24    Max Verstappen   560.0\n"
     ]
    }
   ],
   "source": [
    "merged_f1_points = pd.merge(\n",
    "    sp500_yearly[['Year','AvgClose']],  # from earlier S&P calculation\n",
    "    f1_points_df,\n",
    "    on=\"Year\",\n",
    "    how=\"inner\"\n",
    ")\n",
    "\n",
    "print(merged_f1_points)\n"
   ]
  },
  {
   "cell_type": "code",
   "execution_count": 8,
   "id": "638c9a8d-c35e-4ae3-9bb0-4670d66e986b",
   "metadata": {},
   "outputs": [
    {
     "data": {
      "text/html": [
       "<iframe\n",
       "    scrolling=\"no\"\n",
       "    width=\"100%\"\n",
       "    height=\"545px\"\n",
       "    src=\"iframe_figures/figure_8.html\"\n",
       "    frameborder=\"0\"\n",
       "    allowfullscreen\n",
       "></iframe>\n"
      ]
     },
     "metadata": {},
     "output_type": "display_data"
    },
    {
     "name": "stdout",
     "output_type": "stream",
     "text": [
      "📊 Fake correlation between S&P 500 and F1 Champion Points: 0.78\n"
     ]
    }
   ],
   "source": [
    "import plotly.graph_objects as go\n",
    "import plotly.io as pio\n",
    "\n",
    "pio.renderers.default = \"iframe_connected\"  # ensures it opens in browser\n",
    "\n",
    "fig = go.Figure()\n",
    "\n",
    "# Left axis: S&P 500\n",
    "fig.add_trace(go.Scatter(\n",
    "    x=merged_f1_points['Year'],\n",
    "    y=merged_f1_points['AvgClose'],\n",
    "    name=\"S&P 500 Avg Close\",\n",
    "    line=dict(color=\"blue\", width=3)\n",
    "))\n",
    "\n",
    "# Right axis: F1 Champion Points\n",
    "fig.add_trace(go.Scatter(\n",
    "    x=merged_f1_points['Year'],\n",
    "    y=merged_f1_points['Points'],\n",
    "    name=\"F1 Champion Points\",\n",
    "    line=dict(color=\"red\", width=3),\n",
    "    yaxis=\"y2\"\n",
    "))\n",
    "\n",
    "fig.update_layout(\n",
    "    title=\"📈 S&P 500 vs 🏎 F1 Champion Points (2010–2024)\",\n",
    "    xaxis=dict(title=\"Year\"),\n",
    "    yaxis=dict(title=\"S&P 500 Avg Close\", side=\"left\"),\n",
    "    yaxis2=dict(\n",
    "        title=\"F1 Champion Points\",\n",
    "        overlaying=\"y\",\n",
    "        side=\"right\"\n",
    "    ),\n",
    "    hovermode=\"x unified\",\n",
    "    plot_bgcolor=\"white\"\n",
    ")\n",
    "\n",
    "fig.show()\n",
    "\n",
    "# Funny correlation\n",
    "corr_points = merged_f1_points['AvgClose'].corr(merged_f1_points['Points'])\n",
    "print(f\"📊 Fake correlation between S&P 500 and F1 Champion Points: {corr_points:.2f}\")\n"
   ]
  },
  {
   "cell_type": "code",
   "execution_count": 9,
   "id": "7631e8ab-ea49-4479-b572-7b1a78763407",
   "metadata": {},
   "outputs": [
    {
     "name": "stdout",
     "output_type": "stream",
     "text": [
      "    Year  TempAnomaly\n",
      "0   2010         0.71\n",
      "1   2011         0.62\n",
      "2   2012         0.65\n",
      "3   2013         0.68\n",
      "4   2014         0.74\n",
      "5   2015         0.87\n",
      "6   2016         0.99\n",
      "7   2017         0.91\n",
      "8   2018         0.85\n",
      "9   2019         0.95\n",
      "10  2020         1.02\n",
      "11  2021         0.84\n",
      "12  2022         0.89\n",
      "13  2023         1.12\n",
      "14  2024         1.05\n"
     ]
    }
   ],
   "source": [
    "import pandas as pd\n",
    "\n",
    "global_temp_data = [\n",
    "    {\"Year\": 2010, \"TempAnomaly\": 0.71},\n",
    "    {\"Year\": 2011, \"TempAnomaly\": 0.62},\n",
    "    {\"Year\": 2012, \"TempAnomaly\": 0.65},\n",
    "    {\"Year\": 2013, \"TempAnomaly\": 0.68},\n",
    "    {\"Year\": 2014, \"TempAnomaly\": 0.74},\n",
    "    {\"Year\": 2015, \"TempAnomaly\": 0.87},\n",
    "    {\"Year\": 2016, \"TempAnomaly\": 0.99},\n",
    "    {\"Year\": 2017, \"TempAnomaly\": 0.91},\n",
    "    {\"Year\": 2018, \"TempAnomaly\": 0.85},\n",
    "    {\"Year\": 2019, \"TempAnomaly\": 0.95},\n",
    "    {\"Year\": 2020, \"TempAnomaly\": 1.02},\n",
    "    {\"Year\": 2021, \"TempAnomaly\": 0.84},\n",
    "    {\"Year\": 2022, \"TempAnomaly\": 0.89},\n",
    "    {\"Year\": 2023, \"TempAnomaly\": 1.12},  # record hot\n",
    "    {\"Year\": 2024, \"TempAnomaly\": 1.05}   # hypothetical\n",
    "]\n",
    "\n",
    "temp_df = pd.DataFrame(global_temp_data)\n",
    "print(temp_df)\n"
   ]
  },
  {
   "cell_type": "code",
   "execution_count": 10,
   "id": "d1f1a3fb-daa5-4bb1-b35a-752b111379b4",
   "metadata": {},
   "outputs": [
    {
     "name": "stdout",
     "output_type": "stream",
     "text": [
      "    Year  AvgClose  TempAnomaly\n",
      "0   2010   1139.97         0.71\n",
      "1   2011   1267.64         0.62\n",
      "2   2012   1379.35         0.65\n",
      "3   2013   1643.80         0.68\n",
      "4   2014   1931.38         0.74\n",
      "5   2015   2061.07         0.87\n",
      "6   2016   2094.65         0.99\n",
      "7   2017   2449.08         0.91\n",
      "8   2018   2746.21         0.85\n",
      "9   2019   2913.36         0.95\n",
      "10  2020   3217.86         1.02\n",
      "11  2021   4273.39         0.84\n",
      "12  2022   4098.51         0.89\n",
      "13  2023   4283.73         1.12\n",
      "14  2024   5428.24         1.05\n"
     ]
    }
   ],
   "source": [
    "merged_temp = pd.merge(\n",
    "    sp500_yearly[['Year', 'AvgClose']],\n",
    "    temp_df,\n",
    "    on=\"Year\",\n",
    "    how=\"inner\"\n",
    ")\n",
    "\n",
    "print(merged_temp)\n"
   ]
  },
  {
   "cell_type": "code",
   "execution_count": 11,
   "id": "72276ffe-deac-4244-8827-f75574ddb1a5",
   "metadata": {},
   "outputs": [
    {
     "data": {
      "text/html": [
       "<iframe\n",
       "    scrolling=\"no\"\n",
       "    width=\"100%\"\n",
       "    height=\"545px\"\n",
       "    src=\"iframe_figures/figure_11.html\"\n",
       "    frameborder=\"0\"\n",
       "    allowfullscreen\n",
       "></iframe>\n"
      ]
     },
     "metadata": {},
     "output_type": "display_data"
    },
    {
     "name": "stdout",
     "output_type": "stream",
     "text": [
      "📊 Fake correlation between S&P 500 and global temperature: 0.75\n"
     ]
    }
   ],
   "source": [
    "import plotly.graph_objects as go\n",
    "import plotly.io as pio\n",
    "\n",
    "pio.renderers.default = \"iframe_connected\"  # ensure it opens in browser\n",
    "\n",
    "fig = go.Figure()\n",
    "\n",
    "# Left axis: S&P 500\n",
    "fig.add_trace(go.Scatter(\n",
    "    x=merged_temp['Year'],\n",
    "    y=merged_temp['AvgClose'],\n",
    "    name=\"S&P 500 Avg Close\",\n",
    "    line=dict(color=\"blue\", width=3)\n",
    "))\n",
    "\n",
    "# Right axis: Global Temp Anomaly\n",
    "fig.add_trace(go.Scatter(\n",
    "    x=merged_temp['Year'],\n",
    "    y=merged_temp['TempAnomaly'],\n",
    "    name=\"Global Temp Anomaly (°C)\",\n",
    "    line=dict(color=\"red\", width=3),\n",
    "    yaxis=\"y2\"\n",
    "))\n",
    "\n",
    "fig.update_layout(\n",
    "    title=\"📈 S&P 500 vs 🌡 Global Temperature Anomaly (2010–2024)\",\n",
    "    xaxis=dict(title=\"Year\"),\n",
    "    yaxis=dict(title=\"S&P 500 Avg Close\", side=\"left\"),\n",
    "    yaxis2=dict(\n",
    "        title=\"Temperature Anomaly (°C)\",\n",
    "        overlaying=\"y\",\n",
    "        side=\"right\"\n",
    "    ),\n",
    "    hovermode=\"x unified\",\n",
    "    plot_bgcolor=\"white\"\n",
    ")\n",
    "\n",
    "fig.show()\n",
    "\n",
    "# Fake correlation\n",
    "corr_temp = merged_temp['AvgClose'].corr(merged_temp['TempAnomaly'])\n",
    "print(f\"📊 Fake correlation between S&P 500 and global temperature: {corr_temp:.2f}\")\n"
   ]
  },
  {
   "cell_type": "code",
   "execution_count": 12,
   "id": "38ad7584-8b39-4c35-9222-0ab1ab0ae66d",
   "metadata": {},
   "outputs": [
    {
     "name": "stdout",
     "output_type": "stream",
     "text": [
      "    Year           Champion  Points\n",
      "0   2010            Chelsea      86\n",
      "1   2011  Manchester United      80\n",
      "2   2012    Manchester City      89\n",
      "3   2013  Manchester United      89\n",
      "4   2014    Manchester City      86\n",
      "5   2015            Chelsea      87\n",
      "6   2016     Leicester City      81\n",
      "7   2017            Chelsea      93\n",
      "8   2018    Manchester City     100\n",
      "9   2019    Manchester City      98\n",
      "10  2020          Liverpool      99\n",
      "11  2021    Manchester City      86\n",
      "12  2022    Manchester City      93\n",
      "13  2023    Manchester City      89\n",
      "14  2024    Manchester City      91\n"
     ]
    }
   ],
   "source": [
    "import pandas as pd\n",
    "\n",
    "prem_champions_points = [\n",
    "    {\"Year\": 2010, \"Champion\": \"Chelsea\",           \"Points\": 86},\n",
    "    {\"Year\": 2011, \"Champion\": \"Manchester United\", \"Points\": 80},\n",
    "    {\"Year\": 2012, \"Champion\": \"Manchester City\",   \"Points\": 89},\n",
    "    {\"Year\": 2013, \"Champion\": \"Manchester United\", \"Points\": 89},\n",
    "    {\"Year\": 2014, \"Champion\": \"Manchester City\",   \"Points\": 86},\n",
    "    {\"Year\": 2015, \"Champion\": \"Chelsea\",           \"Points\": 87},\n",
    "    {\"Year\": 2016, \"Champion\": \"Leicester City\",    \"Points\": 81},\n",
    "    {\"Year\": 2017, \"Champion\": \"Chelsea\",           \"Points\": 93},\n",
    "    {\"Year\": 2018, \"Champion\": \"Manchester City\",   \"Points\": 100},\n",
    "    {\"Year\": 2019, \"Champion\": \"Manchester City\",   \"Points\": 98},\n",
    "    {\"Year\": 2020, \"Champion\": \"Liverpool\",         \"Points\": 99},\n",
    "    {\"Year\": 2021, \"Champion\": \"Manchester City\",   \"Points\": 86},\n",
    "    {\"Year\": 2022, \"Champion\": \"Manchester City\",   \"Points\": 93},\n",
    "    {\"Year\": 2023, \"Champion\": \"Manchester City\",   \"Points\": 89},\n",
    "    {\"Year\": 2024, \"Champion\": \"Manchester City\",   \"Points\": 91}  # hypothetical\n",
    "]\n",
    "\n",
    "prem_df = pd.DataFrame(prem_champions_points)\n",
    "print(prem_df)\n"
   ]
  },
  {
   "cell_type": "code",
   "execution_count": 13,
   "id": "fd59d52c-58e0-49a7-98d0-0b61d2bf421f",
   "metadata": {},
   "outputs": [
    {
     "name": "stdout",
     "output_type": "stream",
     "text": [
      "    Year  AvgClose           Champion  Points\n",
      "0   2010   1139.97            Chelsea      86\n",
      "1   2011   1267.64  Manchester United      80\n",
      "2   2012   1379.35    Manchester City      89\n",
      "3   2013   1643.80  Manchester United      89\n",
      "4   2014   1931.38    Manchester City      86\n",
      "5   2015   2061.07            Chelsea      87\n",
      "6   2016   2094.65     Leicester City      81\n",
      "7   2017   2449.08            Chelsea      93\n",
      "8   2018   2746.21    Manchester City     100\n",
      "9   2019   2913.36    Manchester City      98\n",
      "10  2020   3217.86          Liverpool      99\n",
      "11  2021   4273.39    Manchester City      86\n",
      "12  2022   4098.51    Manchester City      93\n",
      "13  2023   4283.73    Manchester City      89\n",
      "14  2024   5428.24    Manchester City      91\n"
     ]
    }
   ],
   "source": [
    "merged_prem = pd.merge(\n",
    "    sp500_yearly[['Year','AvgClose']],  # from earlier S&P calculation\n",
    "    prem_df,\n",
    "    on=\"Year\",\n",
    "    how=\"inner\"\n",
    ")\n",
    "\n",
    "print(merged_prem)\n"
   ]
  },
  {
   "cell_type": "code",
   "execution_count": 14,
   "id": "89922267-3a29-45a6-a6c7-027d30871971",
   "metadata": {},
   "outputs": [
    {
     "data": {
      "text/html": [
       "<iframe\n",
       "    scrolling=\"no\"\n",
       "    width=\"100%\"\n",
       "    height=\"545px\"\n",
       "    src=\"iframe_figures/figure_14.html\"\n",
       "    frameborder=\"0\"\n",
       "    allowfullscreen\n",
       "></iframe>\n"
      ]
     },
     "metadata": {},
     "output_type": "display_data"
    },
    {
     "name": "stdout",
     "output_type": "stream",
     "text": [
      "📊 Fake correlation between S&P 500 and PL Champion Points: 0.35\n"
     ]
    }
   ],
   "source": [
    "import plotly.graph_objects as go\n",
    "import plotly.io as pio\n",
    "\n",
    "pio.renderers.default = \"iframe_connected\"  # always open in browser\n",
    "\n",
    "fig = go.Figure()\n",
    "\n",
    "# Left axis: S&P 500\n",
    "fig.add_trace(go.Scatter(\n",
    "    x=merged_prem['Year'],\n",
    "    y=merged_prem['AvgClose'],\n",
    "    name=\"S&P 500 Avg Close\",\n",
    "    line=dict(color=\"blue\", width=3)\n",
    "))\n",
    "\n",
    "# Right axis: PL Champion Points\n",
    "fig.add_trace(go.Scatter(\n",
    "    x=merged_prem['Year'],\n",
    "    y=merged_prem['Points'],\n",
    "    name=\"PL Champion Points\",\n",
    "    line=dict(color=\"green\", width=3),\n",
    "    yaxis=\"y2\"\n",
    "))\n",
    "\n",
    "fig.update_layout(\n",
    "    title=\"📈 S&P 500 vs ⚽ Premier League Champion Points (2010–2024)\",\n",
    "    xaxis=dict(title=\"Year\"),\n",
    "    yaxis=dict(title=\"S&P 500 Avg Close\", side=\"left\"),\n",
    "    yaxis2=dict(\n",
    "        title=\"PL Champion Points\",\n",
    "        overlaying=\"y\",\n",
    "        side=\"right\"\n",
    "    ),\n",
    "    hovermode=\"x unified\",\n",
    "    plot_bgcolor=\"white\"\n",
    ")\n",
    "\n",
    "fig.show()\n",
    "\n",
    "# Funny correlation\n",
    "corr_prem = merged_prem['AvgClose'].corr(merged_prem['Points'])\n",
    "print(f\"📊 Fake correlation between S&P 500 and PL Champion Points: {corr_prem:.2f}\")\n"
   ]
  },
  {
   "cell_type": "code",
   "execution_count": 20,
   "id": "0b478609-52f8-40e3-a2db-b2529f2d1574",
   "metadata": {},
   "outputs": [
    {
     "name": "stdout",
     "output_type": "stream",
     "text": [
      "   Year  AvgClose  Danceability     Energy       Tempo  F1ChampionPoints  \\\n",
      "0  2010   1139.97     64.529412  77.901961  122.058824             256.0   \n",
      "1  2011   1267.64     63.641509  74.886792  119.075472             392.0   \n",
      "2  2012   1379.35     65.714286  75.485714  121.085714             281.0   \n",
      "3  2013   1643.80     62.042254  73.873239  121.676056             397.0   \n",
      "4  2014   1931.38     62.534483  67.775862  123.000000             384.0   \n",
      "5  2015   2061.07     63.663158  70.336842  119.768421             381.0   \n",
      "6  2016   2094.65     63.325000  67.237500  114.325000             385.0   \n",
      "7  2017   2449.08     65.369231  69.169231  116.800000             363.0   \n",
      "8  2018   2746.21     67.203125  65.468750  114.593750             408.0   \n",
      "9  2019   2913.36     69.709677  64.741935  112.451613             413.0   \n",
      "\n",
      "   TempAnomaly  PLChampionPoints  \n",
      "0         0.71                86  \n",
      "1         0.62                80  \n",
      "2         0.65                89  \n",
      "3         0.68                89  \n",
      "4         0.74                86  \n",
      "5         0.87                87  \n",
      "6         0.99                81  \n",
      "7         0.91                93  \n",
      "8         0.85               100  \n",
      "9         0.95                98  \n"
     ]
    }
   ],
   "source": [
    "# Keep only 2010–2019\n",
    "combined_df_clean = combined_df[(combined_df['Year'] >= 2010) & (combined_df['Year'] <= 2019)]\n",
    "combined_df_clean = combined_df_clean.dropna()\n",
    "print(combined_df_clean)\n"
   ]
  },
  {
   "cell_type": "code",
   "execution_count": 23,
   "id": "cb96da29-6c46-406f-a97f-486bd3cf3629",
   "metadata": {},
   "outputs": [],
   "source": [
    "import plotly.graph_objects as go\n",
    "\n",
    "fig = go.Figure()\n",
    "\n",
    "# --- S&P 500 ---\n",
    "fig.add_trace(go.Scatter(\n",
    "    x=combined_df_clean['Year'],\n",
    "    y=combined_df_clean['AvgClose'],\n",
    "    name=\"📈 S&P 500 Avg Close\",\n",
    "    line=dict(width=3, color=\"blue\")\n",
    "))\n",
    "\n",
    "# --- Spotify Danceability ---\n",
    "fig.add_trace(go.Scatter(\n",
    "    x=combined_df_clean['Year'],\n",
    "    y=combined_df_clean['Danceability'],\n",
    "    name=\"🎵 Danceability\",\n",
    "    line=dict(width=2, color=\"orange\"),\n",
    "    yaxis=\"y2\"\n",
    "))\n",
    "\n",
    "# --- F1 Champion Points ---\n",
    "fig.add_trace(go.Scatter(\n",
    "    x=combined_df_clean['Year'],\n",
    "    y=combined_df_clean['F1ChampionPoints'],\n",
    "    name=\"🏎 F1 Champion Points\",\n",
    "    line=dict(width=2, color=\"green\"),\n",
    "    yaxis=\"y3\"\n",
    "))\n",
    "\n",
    "# --- Global Temp Anomaly ---\n",
    "fig.add_trace(go.Scatter(\n",
    "    x=combined_df_clean['Year'],\n",
    "    y=combined_df_clean['TempAnomaly'],\n",
    "    name=\"🌡 Temp Anomaly (°C)\",\n",
    "    line=dict(width=2, color=\"red\"),\n",
    "    yaxis=\"y4\"\n",
    "))\n",
    "\n",
    "# --- Premier League Champion Points ---\n",
    "fig.add_trace(go.Scatter(\n",
    "    x=combined_df_clean['Year'],\n",
    "    y=combined_df_clean['PLChampionPoints'],\n",
    "    name=\"⚽ PL Champion Points\",\n",
    "    line=dict(width=2, color=\"purple\"),\n",
    "    yaxis=\"y5\"\n",
    "))\n",
    "\n",
    "# ✅ Corrected layout\n",
    "fig.update_layout(\n",
    "    title=\"Absurd Correlations (2010–2019): S&P 500 vs Music, F1, Temp, & Football\",\n",
    "    xaxis=dict(title=\"Year\"),\n",
    "\n",
    "    # ✅ Main axis\n",
    "    yaxis=dict(\n",
    "        title=dict(text=\"S&P 500 Avg Close\", font=dict(color=\"blue\")),\n",
    "        tickfont=dict(color=\"blue\")\n",
    "    ),\n",
    "\n",
    "    # ✅ Spotify Danceability axis\n",
    "    yaxis2=dict(\n",
    "        title=dict(text=\"Danceability\", font=dict(color=\"orange\")),\n",
    "        tickfont=dict(color=\"orange\"),\n",
    "        overlaying=\"y\", side=\"left\", position=0.05, anchor=\"free\"\n",
    "    ),\n",
    "\n",
    "    # ✅ F1 Points axis\n",
    "    yaxis3=dict(\n",
    "        title=dict(text=\"F1 Points\", font=dict(color=\"green\")),\n",
    "        tickfont=dict(color=\"green\"),\n",
    "        overlaying=\"y\", side=\"left\", position=0.10, anchor=\"free\"\n",
    "    ),\n",
    "\n",
    "    # ✅ Temp axis\n",
    "    yaxis4=dict(\n",
    "        title=dict(text=\"Temp Anomaly °C\", font=dict(color=\"red\")),\n",
    "        tickfont=dict(color=\"red\"),\n",
    "        overlaying=\"y\", side=\"right\", position=0.95, anchor=\"free\"\n",
    "    ),\n",
    "\n",
    "    # ✅ Premier League axis\n",
    "    yaxis5=dict(\n",
    "        title=dict(text=\"PL Points\", font=dict(color=\"purple\")),\n",
    "        tickfont=dict(color=\"purple\"),\n",
    "        overlaying=\"y\", side=\"right\", position=0.90, anchor=\"free\"\n",
    "    ),\n",
    "\n",
    "    plot_bgcolor=\"white\",\n",
    "    hovermode=\"x unified\",\n",
    "    legend=dict(orientation=\"h\", y=-0.2)\n",
    ")\n",
    "\n",
    "fig.show()\n"
   ]
  },
  {
   "cell_type": "code",
   "execution_count": 24,
   "id": "71e63ec1-1058-4899-97a0-52f63d770ad4",
   "metadata": {},
   "outputs": [
    {
     "name": "stdout",
     "output_type": "stream",
     "text": [
      "Train size: (8, 4) | Test size: (2, 4)\n"
     ]
    }
   ],
   "source": [
    "# Features = absurd data, Target = S&P 500 yearly average close\n",
    "X = combined_df_clean[['Danceability', 'F1ChampionPoints', 'TempAnomaly', 'PLChampionPoints']]\n",
    "y = combined_df_clean['AvgClose']\n",
    "\n",
    "from sklearn.model_selection import train_test_split\n",
    "\n",
    "# 80/20 split (so 8 train years, 2 test years)\n",
    "X_train, X_test, y_train, y_test = train_test_split(\n",
    "    X, y, test_size=0.2, random_state=42\n",
    ")\n",
    "\n",
    "print(\"Train size:\", X_train.shape, \"| Test size:\", X_test.shape)\n"
   ]
  },
  {
   "cell_type": "code",
   "execution_count": 25,
   "id": "889a3824-6a84-4b64-95be-ab415970bb85",
   "metadata": {},
   "outputs": [
    {
     "name": "stdout",
     "output_type": "stream",
     "text": [
      "Linear Regression MAE: 27.60\n",
      "True: 2746.21 → Predicted: 2734.17\n",
      "True: 1267.64 → Predicted: 1310.81\n"
     ]
    }
   ],
   "source": [
    "from sklearn.linear_model import LinearRegression\n",
    "from sklearn.metrics import mean_absolute_error\n",
    "\n",
    "# Train\n",
    "lr_model = LinearRegression()\n",
    "lr_model.fit(X_train, y_train)\n",
    "\n",
    "# Predict\n",
    "y_pred = lr_model.predict(X_test)\n",
    "\n",
    "# Evaluate\n",
    "mae = mean_absolute_error(y_test, y_pred)\n",
    "print(f\"Linear Regression MAE: {mae:.2f}\")\n",
    "\n",
    "# Show actual vs predicted\n",
    "for true_val, pred_val in zip(y_test, y_pred):\n",
    "    print(f\"True: {true_val:.2f} → Predicted: {pred_val:.2f}\")\n"
   ]
  },
  {
   "cell_type": "code",
   "execution_count": 26,
   "id": "93d60b13-5802-43f6-88dd-fcef5c208a12",
   "metadata": {},
   "outputs": [
    {
     "name": "stdout",
     "output_type": "stream",
     "text": [
      "\n",
      "Feature influence on S&P 500 (completely absurd):\n",
      "            Feature  Coefficient\n",
      "2       TempAnomaly  2191.563898\n",
      "3  PLChampionPoints    39.082982\n",
      "0      Danceability    20.649050\n",
      "1  F1ChampionPoints     4.006195\n"
     ]
    }
   ],
   "source": [
    "coef_df = pd.DataFrame({\n",
    "    'Feature': X.columns,\n",
    "    'Coefficient': lr_model.coef_\n",
    "}).sort_values(by='Coefficient', key=abs, ascending=False)\n",
    "\n",
    "print(\"\\nFeature influence on S&P 500 (completely absurd):\")\n",
    "print(coef_df)\n"
   ]
  },
  {
   "cell_type": "code",
   "execution_count": 27,
   "id": "afb526ca-80b2-472a-8577-3f46d8e76972",
   "metadata": {},
   "outputs": [
    {
     "name": "stdout",
     "output_type": "stream",
     "text": [
      "\n",
      "Neural Net MAE: 2004.96\n",
      "\u001b[1m1/1\u001b[0m \u001b[32m━━━━━━━━━━━━━━━━━━━━\u001b[0m\u001b[37m\u001b[0m \u001b[1m0s\u001b[0m 321ms/step\n",
      "[NN] True: 2746.21 → Predicted: 3.17\n",
      "[NN] True: 1267.64 → Predicted: 0.77\n"
     ]
    }
   ],
   "source": [
    "from sklearn.preprocessing import StandardScaler\n",
    "import tensorflow as tf\n",
    "from tensorflow import keras\n",
    "from tensorflow.keras import layers\n",
    "\n",
    "# Normalize\n",
    "scaler = StandardScaler()\n",
    "X_train_scaled = scaler.fit_transform(X_train)\n",
    "X_test_scaled = scaler.transform(X_test)\n",
    "\n",
    "# Simple NN\n",
    "nn_model = keras.Sequential([\n",
    "    layers.Input(shape=(X_train.shape[1],)),\n",
    "    layers.Dense(8, activation='relu'),\n",
    "    layers.Dense(4, activation='relu'),\n",
    "    layers.Dense(1)\n",
    "])\n",
    "\n",
    "nn_model.compile(optimizer='adam', loss='mse', metrics=['mae'])\n",
    "nn_model.fit(X_train_scaled, y_train, epochs=200, verbose=0)\n",
    "\n",
    "loss, mae_nn = nn_model.evaluate(X_test_scaled, y_test, verbose=0)\n",
    "print(f\"\\nNeural Net MAE: {mae_nn:.2f}\")\n",
    "\n",
    "y_pred_nn = nn_model.predict(X_test_scaled).flatten()\n",
    "for true_val, pred_val in zip(y_test, y_pred_nn):\n",
    "    print(f\"[NN] True: {true_val:.2f} → Predicted: {pred_val:.2f}\")\n"
   ]
  },
  {
   "cell_type": "code",
   "execution_count": null,
   "id": "a307c58a-b2df-438b-b09d-169f9e7ef0ea",
   "metadata": {},
   "outputs": [],
   "source": []
  }
 ],
 "metadata": {
  "kernelspec": {
   "display_name": "Python (tf-env)",
   "language": "python",
   "name": "tf-env"
  },
  "language_info": {
   "codemirror_mode": {
    "name": "ipython",
    "version": 3
   },
   "file_extension": ".py",
   "mimetype": "text/x-python",
   "name": "python",
   "nbconvert_exporter": "python",
   "pygments_lexer": "ipython3",
   "version": "3.11.0"
  }
 },
 "nbformat": 4,
 "nbformat_minor": 5
}
