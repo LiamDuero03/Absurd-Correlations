{
 "cells": [
  {
   "cell_type": "code",
   "execution_count": null,
   "id": "d9e9f71e-d5d4-4540-88d1-2621dd2dfeb5",
   "metadata": {},
   "outputs": [],
   "source": []
  },
  {
   "cell_type": "code",
   "execution_count": null,
   "id": "81903271-f126-4e26-8c9a-7b1622732542",
   "metadata": {},
   "outputs": [],
   "source": []
  },
  {
   "cell_type": "code",
   "execution_count": 16,
   "id": "32b64a15-af8d-47ce-84bf-239e6227bae2",
   "metadata": {},
   "outputs": [
    {
     "name": "stderr",
     "output_type": "stream",
     "text": [
      "C:\\Users\\Liam Sydney\\AppData\\Local\\Temp\\ipykernel_3276\\2816719890.py:8: FutureWarning:\n",
      "\n",
      "YF.download() has changed argument auto_adjust default to True\n",
      "\n",
      "[*********************100%***********************]  1 of 1 completed\n"
     ]
    },
    {
     "name": "stdout",
     "output_type": "stream",
     "text": [
      "   Year  AvgClose         High          Low         Open        Volume\n",
      "0  2010   1139.97  1146.573372  1131.280990  1139.369761  4.569371e+09\n",
      "1  2011   1267.64  1277.223450  1257.176747  1267.618211  4.109056e+09\n",
      "2  2012   1379.35  1385.845401  1371.269002  1378.680638  3.631677e+09\n",
      "3  2013   1643.80  1649.615712  1635.740156  1642.298649  3.358967e+09\n",
      "4  2014   1931.38  1938.835599  1922.292981  1930.754485  3.354783e+09\n",
      "Index(['Year', 'AvgClose', 'High', 'Low', 'Open', 'Volume'], dtype='object')\n"
     ]
    },
    {
     "data": {
      "text/html": [
       "<iframe\n",
       "    scrolling=\"no\"\n",
       "    width=\"100%\"\n",
       "    height=\"545px\"\n",
       "    src=\"iframe_figures/figure_16.html\"\n",
       "    frameborder=\"0\"\n",
       "    allowfullscreen\n",
       "></iframe>\n"
      ]
     },
     "metadata": {},
     "output_type": "display_data"
    }
   ],
   "source": [
    "import yfinance as yf\n",
    "import pandas as pd\n",
    "import plotly.express as px\n",
    "import plotly.io as pio\n",
    "pio.renderers.default = \"iframe_connected\"  # or \"iframe_connected\"\n",
    "\n",
    "# Download S&P 500 data\n",
    "sp500 = yf.download(\"^GSPC\", start=\"2010-01-01\", end=\"2025-01-01\")\n",
    "\n",
    "# Extract Year\n",
    "sp500['Year'] = sp500.index.year\n",
    "\n",
    "# Group by Year and take the mean\n",
    "sp500_yearly = sp500.groupby('Year').mean(numeric_only=True)\n",
    "\n",
    "# ✅ Flatten multi-level column names\n",
    "sp500_yearly.columns = [col if not isinstance(col, tuple) else col[0] for col in sp500_yearly.columns]\n",
    "\n",
    "# Now bring Year back as a column\n",
    "sp500_yearly = sp500_yearly.reset_index()\n",
    "\n",
    "# ✅ Rename for clarity\n",
    "sp500_yearly = sp500_yearly.rename(columns={'Close': 'AvgClose'})\n",
    "\n",
    "# Round for nicer display\n",
    "sp500_yearly['AvgClose'] = sp500_yearly['AvgClose'].round(2)\n",
    "\n",
    "# ✅ Debug: See final dataframe\n",
    "print(sp500_yearly.head())\n",
    "print(sp500_yearly.columns)\n",
    "\n",
    "# ✅ Clean Plotly Express chart\n",
    "fig = px.line(\n",
    "    sp500_yearly,\n",
    "    x=\"Year\",\n",
    "    y=\"AvgClose\",\n",
    "    title=\"📈 S&P 500 Yearly Average Close (2010–2024)\",\n",
    "    markers=True\n",
    ")\n",
    "\n",
    "fig.update_traces(line=dict(width=3, color=\"#1f77b4\"), marker=dict(size=8))\n",
    "fig.update_layout(\n",
    "    plot_bgcolor=\"white\",\n",
    "    hovermode=\"x unified\",\n",
    "    xaxis=dict(\n",
    "        showgrid=True,\n",
    "        gridcolor=\"lightgray\",\n",
    "        tickmode=\"linear\"\n",
    "    ),\n",
    "    yaxis=dict(\n",
    "        title=\"Average Close Price (USD)\",\n",
    "        showgrid=True,\n",
    "        gridcolor=\"lightgray\"\n",
    "    )\n",
    ")\n",
    "\n",
    "fig.show()\n"
   ]
  },
  {
   "cell_type": "code",
   "execution_count": null,
   "id": "d7acca79-07f9-4dd4-a70b-5ac087cb0774",
   "metadata": {},
   "outputs": [],
   "source": []
  },
  {
   "cell_type": "code",
   "execution_count": 2,
   "id": "52c03c35-4ab0-4434-b515-bb60bc99b598",
   "metadata": {},
   "outputs": [
    {
     "name": "stderr",
     "output_type": "stream",
     "text": [
      "C:\\Users\\Liam Sydney\\Desktop\\tensorflow_project\\tf-env\\Lib\\site-packages\\tqdm\\auto.py:21: TqdmWarning:\n",
      "\n",
      "IProgress not found. Please update jupyter and ipywidgets. See https://ipywidgets.readthedocs.io/en/stable/user_install.html\n",
      "\n"
     ]
    },
    {
     "name": "stdout",
     "output_type": "stream",
     "text": [
      "Path to dataset files: C:\\Users\\Liam Sydney\\.cache\\kagglehub\\datasets\\leonardopena\\top-spotify-songs-from-20102019-by-year\\versions\\1\n"
     ]
    }
   ],
   "source": [
    "import kagglehub\n",
    "\n",
    "# Download latest version\n",
    "path = kagglehub.dataset_download(\"leonardopena/top-spotify-songs-from-20102019-by-year\")\n",
    "\n",
    "print(\"Path to dataset files:\", path)"
   ]
  },
  {
   "cell_type": "code",
   "execution_count": 5,
   "id": "0248abf2-5fa0-4326-a27c-990187783848",
   "metadata": {},
   "outputs": [
    {
     "name": "stdout",
     "output_type": "stream",
     "text": [
      "   Unnamed: 0                 title      artist        top genre  year  bpm  \\\n",
      "0           1      Hey, Soul Sister       Train       neo mellow  2010   97   \n",
      "1           2  Love The Way You Lie      Eminem  detroit hip hop  2010   87   \n",
      "2           3               TiK ToK       Kesha        dance pop  2010  120   \n",
      "3           4           Bad Romance   Lady Gaga        dance pop  2010  119   \n",
      "4           5  Just the Way You Are  Bruno Mars              pop  2010  109   \n",
      "\n",
      "   nrgy  dnce  dB  live  val  dur  acous  spch  pop  \n",
      "0    89    67  -4     8   80  217     19     4   83  \n",
      "1    93    75  -5    52   64  263     24    23   82  \n",
      "2    84    76  -3    29   71  200     10    14   80  \n",
      "3    92    70  -4     8   71  295      0     4   79  \n",
      "4    84    64  -5     9   43  221      2     4   78  \n",
      "Index(['Unnamed: 0', 'title', 'artist', 'top genre', 'year', 'bpm', 'nrgy',\n",
      "       'dnce', 'dB', 'live', 'val', 'dur', 'acous', 'spch', 'pop'],\n",
      "      dtype='object')\n"
     ]
    }
   ],
   "source": [
    "import os\n",
    "import pandas as pd\n",
    "\n",
    "# Path to the CSV inside the downloaded folder\n",
    "csv_path= os.path.join(path, \"top10s.csv\")\n",
    "\n",
    "# Load it\n",
    "df_spotify = pd.read_csv(csv_path, encoding=\"latin1\")\n",
    "print(df_spotify.head())\n",
    "print(df_spotify.columns)\n",
    "\n"
   ]
  },
  {
   "cell_type": "code",
   "execution_count": 17,
   "id": "e0e39eb8-15ba-4c20-889d-f51cb6a0c845",
   "metadata": {},
   "outputs": [
    {
     "data": {
      "text/html": [
       "<iframe\n",
       "    scrolling=\"no\"\n",
       "    width=\"100%\"\n",
       "    height=\"545px\"\n",
       "    src=\"iframe_figures/figure_17.html\"\n",
       "    frameborder=\"0\"\n",
       "    allowfullscreen\n",
       "></iframe>\n"
      ]
     },
     "metadata": {},
     "output_type": "display_data"
    },
    {
     "name": "stdout",
     "output_type": "stream",
     "text": [
      "📊 Fake correlation between S&P 500 and danceability: 0.62\n"
     ]
    }
   ],
   "source": [
    "import pandas as pd\n",
    "import plotly.graph_objects as go\n",
    "import plotly.io as pio\n",
    "\n",
    "# ✅ Force plotly to render in Jupyter\n",
    "pio.renderers.default = \"iframe_connected\"\n",
    "\n",
    "# --- Spotify Yearly Aggregation ---\n",
    "spotify_yearly = df_spotify.groupby('year')[['dnce', 'nrgy', 'bpm']].mean().reset_index()\n",
    "spotify_yearly.rename(columns={\n",
    "    'year': 'Year',\n",
    "    'dnce': 'Danceability',\n",
    "    'nrgy': 'Energy',\n",
    "    'bpm': 'Tempo'\n",
    "}, inplace=True)\n",
    "\n",
    "# --- Merge with S&P 500 Yearly ---\n",
    "merged = pd.merge(\n",
    "    sp500_yearly[['Year', 'AvgClose']],\n",
    "    spotify_yearly,\n",
    "    on='Year',\n",
    "    how='inner'\n",
    ")\n",
    "\n",
    "# --- Dual Axis Chart ---\n",
    "fig = go.Figure()\n",
    "\n",
    "# S&P 500 left axis\n",
    "fig.add_trace(go.Scatter(\n",
    "    x=merged['Year'],\n",
    "    y=merged['AvgClose'],\n",
    "    name=\"S&P 500 Avg Close\",\n",
    "    line=dict(color=\"blue\", width=3)\n",
    "))\n",
    "\n",
    "# Danceability right axis\n",
    "fig.add_trace(go.Scatter(\n",
    "    x=merged['Year'],\n",
    "    y=merged['Danceability'],\n",
    "    name=\"Avg Danceability\",\n",
    "    line=dict(color=\"orange\", width=3),\n",
    "    yaxis=\"y2\"\n",
    "))\n",
    "\n",
    "fig.update_layout(\n",
    "    title=\"📈 S&P 500 vs 🎵 Spotify Danceability (2010–2019)\",\n",
    "    xaxis=dict(title=\"Year\"),\n",
    "    yaxis=dict(title=\"S&P 500 Avg Close\", side=\"left\"),\n",
    "    yaxis2=dict(\n",
    "        title=\"Danceability (0–100)\",\n",
    "        overlaying=\"y\",\n",
    "        side=\"right\"\n",
    "    ),\n",
    "    hovermode=\"x unified\",\n",
    "    plot_bgcolor=\"white\"\n",
    ")\n",
    "\n",
    "fig.show()\n",
    "\n",
    "# --- Funny Correlation ---\n",
    "corr = merged['AvgClose'].corr(merged['Danceability'])\n",
    "print(f\"📊 Fake correlation between S&P 500 and danceability: {corr:.2f}\")\n"
   ]
  },
  {
   "cell_type": "code",
   "execution_count": 19,
   "id": "e728109c-fc48-4253-97d7-65ac16701209",
   "metadata": {},
   "outputs": [
    {
     "name": "stdout",
     "output_type": "stream",
     "text": [
      "    Year          Champion  Points\n",
      "0   2010  Sebastian Vettel   256.0\n",
      "1   2011  Sebastian Vettel   392.0\n",
      "2   2012  Sebastian Vettel   281.0\n",
      "3   2013  Sebastian Vettel   397.0\n",
      "4   2014    Lewis Hamilton   384.0\n",
      "5   2015    Lewis Hamilton   381.0\n",
      "6   2016      Nico Rosberg   385.0\n",
      "7   2017    Lewis Hamilton   363.0\n",
      "8   2018    Lewis Hamilton   408.0\n",
      "9   2019    Lewis Hamilton   413.0\n",
      "10  2020    Lewis Hamilton   347.0\n",
      "11  2021    Max Verstappen   395.5\n",
      "12  2022    Max Verstappen   454.0\n",
      "13  2023    Max Verstappen   575.0\n",
      "14  2024    Max Verstappen   560.0\n"
     ]
    }
   ],
   "source": [
    "import pandas as pd\n",
    "\n",
    "f1_champions_points = [\n",
    "    {\"Year\": 2010, \"Champion\": \"Sebastian Vettel\", \"Points\": 256},\n",
    "    {\"Year\": 2011, \"Champion\": \"Sebastian Vettel\", \"Points\": 392},\n",
    "    {\"Year\": 2012, \"Champion\": \"Sebastian Vettel\", \"Points\": 281},\n",
    "    {\"Year\": 2013, \"Champion\": \"Sebastian Vettel\", \"Points\": 397},\n",
    "    {\"Year\": 2014, \"Champion\": \"Lewis Hamilton\",   \"Points\": 384},\n",
    "    {\"Year\": 2015, \"Champion\": \"Lewis Hamilton\",   \"Points\": 381},\n",
    "    {\"Year\": 2016, \"Champion\": \"Nico Rosberg\",     \"Points\": 385},\n",
    "    {\"Year\": 2017, \"Champion\": \"Lewis Hamilton\",   \"Points\": 363},\n",
    "    {\"Year\": 2018, \"Champion\": \"Lewis Hamilton\",   \"Points\": 408},\n",
    "    {\"Year\": 2019, \"Champion\": \"Lewis Hamilton\",   \"Points\": 413},\n",
    "    {\"Year\": 2020, \"Champion\": \"Lewis Hamilton\",   \"Points\": 347},\n",
    "    {\"Year\": 2021, \"Champion\": \"Max Verstappen\",   \"Points\": 395.5},\n",
    "    {\"Year\": 2022, \"Champion\": \"Max Verstappen\",   \"Points\": 454},\n",
    "    {\"Year\": 2023, \"Champion\": \"Max Verstappen\",   \"Points\": 575},\n",
    "    {\"Year\": 2024, \"Champion\": \"Max Verstappen\",   \"Points\": 560}  # example\n",
    "]\n",
    "\n",
    "f1_points_df = pd.DataFrame(f1_champions_points)\n",
    "print(f1_points_df)\n"
   ]
  },
  {
   "cell_type": "code",
   "execution_count": 20,
   "id": "511dd0b5-06d6-4583-92d9-0c6a424cb384",
   "metadata": {},
   "outputs": [
    {
     "name": "stdout",
     "output_type": "stream",
     "text": [
      "    Year  AvgClose          Champion  Points\n",
      "0   2010   1139.97  Sebastian Vettel   256.0\n",
      "1   2011   1267.64  Sebastian Vettel   392.0\n",
      "2   2012   1379.35  Sebastian Vettel   281.0\n",
      "3   2013   1643.80  Sebastian Vettel   397.0\n",
      "4   2014   1931.38    Lewis Hamilton   384.0\n",
      "5   2015   2061.07    Lewis Hamilton   381.0\n",
      "6   2016   2094.65      Nico Rosberg   385.0\n",
      "7   2017   2449.08    Lewis Hamilton   363.0\n",
      "8   2018   2746.21    Lewis Hamilton   408.0\n",
      "9   2019   2913.36    Lewis Hamilton   413.0\n",
      "10  2020   3217.86    Lewis Hamilton   347.0\n",
      "11  2021   4273.39    Max Verstappen   395.5\n",
      "12  2022   4098.51    Max Verstappen   454.0\n",
      "13  2023   4283.73    Max Verstappen   575.0\n",
      "14  2024   5428.24    Max Verstappen   560.0\n"
     ]
    }
   ],
   "source": [
    "merged_f1_points = pd.merge(\n",
    "    sp500_yearly[['Year','AvgClose']],  # from earlier S&P calculation\n",
    "    f1_points_df,\n",
    "    on=\"Year\",\n",
    "    how=\"inner\"\n",
    ")\n",
    "\n",
    "print(merged_f1_points)\n"
   ]
  },
  {
   "cell_type": "code",
   "execution_count": 21,
   "id": "638c9a8d-c35e-4ae3-9bb0-4670d66e986b",
   "metadata": {},
   "outputs": [
    {
     "data": {
      "text/html": [
       "<iframe\n",
       "    scrolling=\"no\"\n",
       "    width=\"100%\"\n",
       "    height=\"545px\"\n",
       "    src=\"iframe_figures/figure_21.html\"\n",
       "    frameborder=\"0\"\n",
       "    allowfullscreen\n",
       "></iframe>\n"
      ]
     },
     "metadata": {},
     "output_type": "display_data"
    },
    {
     "name": "stdout",
     "output_type": "stream",
     "text": [
      "📊 Fake correlation between S&P 500 and F1 Champion Points: 0.78\n"
     ]
    }
   ],
   "source": [
    "import plotly.graph_objects as go\n",
    "import plotly.io as pio\n",
    "\n",
    "pio.renderers.default = \"iframe_connected\"  # ensures it opens in browser\n",
    "\n",
    "fig = go.Figure()\n",
    "\n",
    "# Left axis: S&P 500\n",
    "fig.add_trace(go.Scatter(\n",
    "    x=merged_f1_points['Year'],\n",
    "    y=merged_f1_points['AvgClose'],\n",
    "    name=\"S&P 500 Avg Close\",\n",
    "    line=dict(color=\"blue\", width=3)\n",
    "))\n",
    "\n",
    "# Right axis: F1 Champion Points\n",
    "fig.add_trace(go.Scatter(\n",
    "    x=merged_f1_points['Year'],\n",
    "    y=merged_f1_points['Points'],\n",
    "    name=\"F1 Champion Points\",\n",
    "    line=dict(color=\"red\", width=3),\n",
    "    yaxis=\"y2\"\n",
    "))\n",
    "\n",
    "fig.update_layout(\n",
    "    title=\"📈 S&P 500 vs 🏎 F1 Champion Points (2010–2024)\",\n",
    "    xaxis=dict(title=\"Year\"),\n",
    "    yaxis=dict(title=\"S&P 500 Avg Close\", side=\"left\"),\n",
    "    yaxis2=dict(\n",
    "        title=\"F1 Champion Points\",\n",
    "        overlaying=\"y\",\n",
    "        side=\"right\"\n",
    "    ),\n",
    "    hovermode=\"x unified\",\n",
    "    plot_bgcolor=\"white\"\n",
    ")\n",
    "\n",
    "fig.show()\n",
    "\n",
    "# Funny correlation\n",
    "corr_points = merged_f1_points['AvgClose'].corr(merged_f1_points['Points'])\n",
    "print(f\"📊 Fake correlation between S&P 500 and F1 Champion Points: {corr_points:.2f}\")\n"
   ]
  },
  {
   "cell_type": "code",
   "execution_count": 22,
   "id": "7631e8ab-ea49-4479-b572-7b1a78763407",
   "metadata": {},
   "outputs": [
    {
     "name": "stdout",
     "output_type": "stream",
     "text": [
      "    Year  TempAnomaly\n",
      "0   2010         0.71\n",
      "1   2011         0.62\n",
      "2   2012         0.65\n",
      "3   2013         0.68\n",
      "4   2014         0.74\n",
      "5   2015         0.87\n",
      "6   2016         0.99\n",
      "7   2017         0.91\n",
      "8   2018         0.85\n",
      "9   2019         0.95\n",
      "10  2020         1.02\n",
      "11  2021         0.84\n",
      "12  2022         0.89\n",
      "13  2023         1.12\n",
      "14  2024         1.05\n"
     ]
    }
   ],
   "source": [
    "import pandas as pd\n",
    "\n",
    "global_temp_data = [\n",
    "    {\"Year\": 2010, \"TempAnomaly\": 0.71},\n",
    "    {\"Year\": 2011, \"TempAnomaly\": 0.62},\n",
    "    {\"Year\": 2012, \"TempAnomaly\": 0.65},\n",
    "    {\"Year\": 2013, \"TempAnomaly\": 0.68},\n",
    "    {\"Year\": 2014, \"TempAnomaly\": 0.74},\n",
    "    {\"Year\": 2015, \"TempAnomaly\": 0.87},\n",
    "    {\"Year\": 2016, \"TempAnomaly\": 0.99},\n",
    "    {\"Year\": 2017, \"TempAnomaly\": 0.91},\n",
    "    {\"Year\": 2018, \"TempAnomaly\": 0.85},\n",
    "    {\"Year\": 2019, \"TempAnomaly\": 0.95},\n",
    "    {\"Year\": 2020, \"TempAnomaly\": 1.02},\n",
    "    {\"Year\": 2021, \"TempAnomaly\": 0.84},\n",
    "    {\"Year\": 2022, \"TempAnomaly\": 0.89},\n",
    "    {\"Year\": 2023, \"TempAnomaly\": 1.12},  # record hot\n",
    "    {\"Year\": 2024, \"TempAnomaly\": 1.05}   # hypothetical\n",
    "]\n",
    "\n",
    "temp_df = pd.DataFrame(global_temp_data)\n",
    "print(temp_df)\n"
   ]
  },
  {
   "cell_type": "code",
   "execution_count": 23,
   "id": "d1f1a3fb-daa5-4bb1-b35a-752b111379b4",
   "metadata": {},
   "outputs": [
    {
     "name": "stdout",
     "output_type": "stream",
     "text": [
      "    Year  AvgClose  TempAnomaly\n",
      "0   2010   1139.97         0.71\n",
      "1   2011   1267.64         0.62\n",
      "2   2012   1379.35         0.65\n",
      "3   2013   1643.80         0.68\n",
      "4   2014   1931.38         0.74\n",
      "5   2015   2061.07         0.87\n",
      "6   2016   2094.65         0.99\n",
      "7   2017   2449.08         0.91\n",
      "8   2018   2746.21         0.85\n",
      "9   2019   2913.36         0.95\n",
      "10  2020   3217.86         1.02\n",
      "11  2021   4273.39         0.84\n",
      "12  2022   4098.51         0.89\n",
      "13  2023   4283.73         1.12\n",
      "14  2024   5428.24         1.05\n"
     ]
    }
   ],
   "source": [
    "merged_temp = pd.merge(\n",
    "    sp500_yearly[['Year', 'AvgClose']],\n",
    "    temp_df,\n",
    "    on=\"Year\",\n",
    "    how=\"inner\"\n",
    ")\n",
    "\n",
    "print(merged_temp)\n"
   ]
  },
  {
   "cell_type": "code",
   "execution_count": 24,
   "id": "72276ffe-deac-4244-8827-f75574ddb1a5",
   "metadata": {},
   "outputs": [
    {
     "data": {
      "text/html": [
       "<iframe\n",
       "    scrolling=\"no\"\n",
       "    width=\"100%\"\n",
       "    height=\"545px\"\n",
       "    src=\"iframe_figures/figure_24.html\"\n",
       "    frameborder=\"0\"\n",
       "    allowfullscreen\n",
       "></iframe>\n"
      ]
     },
     "metadata": {},
     "output_type": "display_data"
    },
    {
     "name": "stdout",
     "output_type": "stream",
     "text": [
      "📊 Fake correlation between S&P 500 and global temperature: 0.75\n"
     ]
    }
   ],
   "source": [
    "import plotly.graph_objects as go\n",
    "import plotly.io as pio\n",
    "\n",
    "pio.renderers.default = \"iframe_connected\"  # ensure it opens in browser\n",
    "\n",
    "fig = go.Figure()\n",
    "\n",
    "# Left axis: S&P 500\n",
    "fig.add_trace(go.Scatter(\n",
    "    x=merged_temp['Year'],\n",
    "    y=merged_temp['AvgClose'],\n",
    "    name=\"S&P 500 Avg Close\",\n",
    "    line=dict(color=\"blue\", width=3)\n",
    "))\n",
    "\n",
    "# Right axis: Global Temp Anomaly\n",
    "fig.add_trace(go.Scatter(\n",
    "    x=merged_temp['Year'],\n",
    "    y=merged_temp['TempAnomaly'],\n",
    "    name=\"Global Temp Anomaly (°C)\",\n",
    "    line=dict(color=\"red\", width=3),\n",
    "    yaxis=\"y2\"\n",
    "))\n",
    "\n",
    "fig.update_layout(\n",
    "    title=\"📈 S&P 500 vs 🌡 Global Temperature Anomaly (2010–2024)\",\n",
    "    xaxis=dict(title=\"Year\"),\n",
    "    yaxis=dict(title=\"S&P 500 Avg Close\", side=\"left\"),\n",
    "    yaxis2=dict(\n",
    "        title=\"Temperature Anomaly (°C)\",\n",
    "        overlaying=\"y\",\n",
    "        side=\"right\"\n",
    "    ),\n",
    "    hovermode=\"x unified\",\n",
    "    plot_bgcolor=\"white\"\n",
    ")\n",
    "\n",
    "fig.show()\n",
    "\n",
    "# Fake correlation\n",
    "corr_temp = merged_temp['AvgClose'].corr(merged_temp['TempAnomaly'])\n",
    "print(f\"📊 Fake correlation between S&P 500 and global temperature: {corr_temp:.2f}\")\n"
   ]
  },
  {
   "cell_type": "code",
   "execution_count": 25,
   "id": "38ad7584-8b39-4c35-9222-0ab1ab0ae66d",
   "metadata": {},
   "outputs": [
    {
     "name": "stdout",
     "output_type": "stream",
     "text": [
      "    Year           Champion  Points\n",
      "0   2010            Chelsea      86\n",
      "1   2011  Manchester United      80\n",
      "2   2012    Manchester City      89\n",
      "3   2013  Manchester United      89\n",
      "4   2014    Manchester City      86\n",
      "5   2015            Chelsea      87\n",
      "6   2016     Leicester City      81\n",
      "7   2017            Chelsea      93\n",
      "8   2018    Manchester City     100\n",
      "9   2019    Manchester City      98\n",
      "10  2020          Liverpool      99\n",
      "11  2021    Manchester City      86\n",
      "12  2022    Manchester City      93\n",
      "13  2023    Manchester City      89\n",
      "14  2024    Manchester City      91\n"
     ]
    }
   ],
   "source": [
    "import pandas as pd\n",
    "\n",
    "prem_champions_points = [\n",
    "    {\"Year\": 2010, \"Champion\": \"Chelsea\",           \"Points\": 86},\n",
    "    {\"Year\": 2011, \"Champion\": \"Manchester United\", \"Points\": 80},\n",
    "    {\"Year\": 2012, \"Champion\": \"Manchester City\",   \"Points\": 89},\n",
    "    {\"Year\": 2013, \"Champion\": \"Manchester United\", \"Points\": 89},\n",
    "    {\"Year\": 2014, \"Champion\": \"Manchester City\",   \"Points\": 86},\n",
    "    {\"Year\": 2015, \"Champion\": \"Chelsea\",           \"Points\": 87},\n",
    "    {\"Year\": 2016, \"Champion\": \"Leicester City\",    \"Points\": 81},\n",
    "    {\"Year\": 2017, \"Champion\": \"Chelsea\",           \"Points\": 93},\n",
    "    {\"Year\": 2018, \"Champion\": \"Manchester City\",   \"Points\": 100},\n",
    "    {\"Year\": 2019, \"Champion\": \"Manchester City\",   \"Points\": 98},\n",
    "    {\"Year\": 2020, \"Champion\": \"Liverpool\",         \"Points\": 99},\n",
    "    {\"Year\": 2021, \"Champion\": \"Manchester City\",   \"Points\": 86},\n",
    "    {\"Year\": 2022, \"Champion\": \"Manchester City\",   \"Points\": 93},\n",
    "    {\"Year\": 2023, \"Champion\": \"Manchester City\",   \"Points\": 89},\n",
    "    {\"Year\": 2024, \"Champion\": \"Manchester City\",   \"Points\": 91}  # hypothetical\n",
    "]\n",
    "\n",
    "prem_df = pd.DataFrame(prem_champions_points)\n",
    "print(prem_df)\n"
   ]
  },
  {
   "cell_type": "code",
   "execution_count": 26,
   "id": "fd59d52c-58e0-49a7-98d0-0b61d2bf421f",
   "metadata": {},
   "outputs": [
    {
     "name": "stdout",
     "output_type": "stream",
     "text": [
      "    Year  AvgClose           Champion  Points\n",
      "0   2010   1139.97            Chelsea      86\n",
      "1   2011   1267.64  Manchester United      80\n",
      "2   2012   1379.35    Manchester City      89\n",
      "3   2013   1643.80  Manchester United      89\n",
      "4   2014   1931.38    Manchester City      86\n",
      "5   2015   2061.07            Chelsea      87\n",
      "6   2016   2094.65     Leicester City      81\n",
      "7   2017   2449.08            Chelsea      93\n",
      "8   2018   2746.21    Manchester City     100\n",
      "9   2019   2913.36    Manchester City      98\n",
      "10  2020   3217.86          Liverpool      99\n",
      "11  2021   4273.39    Manchester City      86\n",
      "12  2022   4098.51    Manchester City      93\n",
      "13  2023   4283.73    Manchester City      89\n",
      "14  2024   5428.24    Manchester City      91\n"
     ]
    }
   ],
   "source": [
    "merged_prem = pd.merge(\n",
    "    sp500_yearly[['Year','AvgClose']],  # from earlier S&P calculation\n",
    "    prem_df,\n",
    "    on=\"Year\",\n",
    "    how=\"inner\"\n",
    ")\n",
    "\n",
    "print(merged_prem)\n"
   ]
  },
  {
   "cell_type": "code",
   "execution_count": 27,
   "id": "89922267-3a29-45a6-a6c7-027d30871971",
   "metadata": {},
   "outputs": [
    {
     "data": {
      "text/html": [
       "<iframe\n",
       "    scrolling=\"no\"\n",
       "    width=\"100%\"\n",
       "    height=\"545px\"\n",
       "    src=\"iframe_figures/figure_27.html\"\n",
       "    frameborder=\"0\"\n",
       "    allowfullscreen\n",
       "></iframe>\n"
      ]
     },
     "metadata": {},
     "output_type": "display_data"
    },
    {
     "name": "stdout",
     "output_type": "stream",
     "text": [
      "📊 Fake correlation between S&P 500 and PL Champion Points: 0.35\n"
     ]
    }
   ],
   "source": [
    "import plotly.graph_objects as go\n",
    "import plotly.io as pio\n",
    "\n",
    "pio.renderers.default = \"iframe_connected\"  # always open in browser\n",
    "\n",
    "fig = go.Figure()\n",
    "\n",
    "# Left axis: S&P 500\n",
    "fig.add_trace(go.Scatter(\n",
    "    x=merged_prem['Year'],\n",
    "    y=merged_prem['AvgClose'],\n",
    "    name=\"S&P 500 Avg Close\",\n",
    "    line=dict(color=\"blue\", width=3)\n",
    "))\n",
    "\n",
    "# Right axis: PL Champion Points\n",
    "fig.add_trace(go.Scatter(\n",
    "    x=merged_prem['Year'],\n",
    "    y=merged_prem['Points'],\n",
    "    name=\"PL Champion Points\",\n",
    "    line=dict(color=\"green\", width=3),\n",
    "    yaxis=\"y2\"\n",
    "))\n",
    "\n",
    "fig.update_layout(\n",
    "    title=\"📈 S&P 500 vs ⚽ Premier League Champion Points (2010–2024)\",\n",
    "    xaxis=dict(title=\"Year\"),\n",
    "    yaxis=dict(title=\"S&P 500 Avg Close\", side=\"left\"),\n",
    "    yaxis2=dict(\n",
    "        title=\"PL Champion Points\",\n",
    "        overlaying=\"y\",\n",
    "        side=\"right\"\n",
    "    ),\n",
    "    hovermode=\"x unified\",\n",
    "    plot_bgcolor=\"white\"\n",
    ")\n",
    "\n",
    "fig.show()\n",
    "\n",
    "# Funny correlation\n",
    "corr_prem = merged_prem['AvgClose'].corr(merged_prem['Points'])\n",
    "print(f\"📊 Fake correlation between S&P 500 and PL Champion Points: {corr_prem:.2f}\")\n"
   ]
  },
  {
   "cell_type": "code",
   "execution_count": 28,
   "id": "1393afd3-3f26-4dd6-a8c9-63b7f9a26ac1",
   "metadata": {},
   "outputs": [
    {
     "name": "stdout",
     "output_type": "stream",
     "text": [
      "    Year  AvgClose  Danceability     Energy       Tempo  F1ChampionPoints  \\\n",
      "0   2010   1139.97     64.529412  77.901961  122.058824             256.0   \n",
      "1   2011   1267.64     63.641509  74.886792  119.075472             392.0   \n",
      "2   2012   1379.35     65.714286  75.485714  121.085714             281.0   \n",
      "3   2013   1643.80     62.042254  73.873239  121.676056             397.0   \n",
      "4   2014   1931.38     62.534483  67.775862  123.000000             384.0   \n",
      "5   2015   2061.07     63.663158  70.336842  119.768421             381.0   \n",
      "6   2016   2094.65     63.325000  67.237500  114.325000             385.0   \n",
      "7   2017   2449.08     65.369231  69.169231  116.800000             363.0   \n",
      "8   2018   2746.21     67.203125  65.468750  114.593750             408.0   \n",
      "9   2019   2913.36     69.709677  64.741935  112.451613             413.0   \n",
      "10  2020   3217.86           NaN        NaN         NaN             347.0   \n",
      "11  2021   4273.39           NaN        NaN         NaN             395.5   \n",
      "12  2022   4098.51           NaN        NaN         NaN             454.0   \n",
      "13  2023   4283.73           NaN        NaN         NaN             575.0   \n",
      "14  2024   5428.24           NaN        NaN         NaN             560.0   \n",
      "\n",
      "    TempAnomaly  PLChampionPoints  \n",
      "0          0.71                86  \n",
      "1          0.62                80  \n",
      "2          0.65                89  \n",
      "3          0.68                89  \n",
      "4          0.74                86  \n",
      "5          0.87                87  \n",
      "6          0.99                81  \n",
      "7          0.91                93  \n",
      "8          0.85               100  \n",
      "9          0.95                98  \n",
      "10         1.02                99  \n",
      "11         0.84                86  \n",
      "12         0.89                93  \n",
      "13         1.12                89  \n",
      "14         1.05                91  \n"
     ]
    }
   ],
   "source": [
    "# Start with S&P\n",
    "combined_df = sp500_yearly[['Year', 'AvgClose']].copy()\n",
    "\n",
    "# Merge Spotify yearly data\n",
    "combined_df = combined_df.merge(spotify_yearly[['Year','Danceability','Energy','Tempo']], on='Year', how='left')\n",
    "\n",
    "# Merge F1 points\n",
    "combined_df = combined_df.merge(f1_points_df[['Year','Points']], on='Year', how='left')\n",
    "combined_df.rename(columns={'Points':'F1ChampionPoints'}, inplace=True)\n",
    "\n",
    "# Merge Global Temperature\n",
    "combined_df = combined_df.merge(temp_df[['Year','TempAnomaly']], on='Year', how='left')\n",
    "\n",
    "# Merge Premier League points\n",
    "combined_df = combined_df.merge(prem_df[['Year','Points']], on='Year', how='left')\n",
    "combined_df.rename(columns={'Points':'PLChampionPoints'}, inplace=True)\n",
    "\n",
    "print(combined_df)\n"
   ]
  },
  {
   "cell_type": "code",
   "execution_count": null,
   "id": "0b478609-52f8-40e3-a2db-b2529f2d1574",
   "metadata": {},
   "outputs": [],
   "source": []
  },
  {
   "cell_type": "code",
   "execution_count": 29,
   "id": "120a5080-994c-4660-90b8-1dbc5b419cec",
   "metadata": {},
   "outputs": [
    {
     "name": "stdout",
     "output_type": "stream",
     "text": [
      "Training samples: 12\n",
      "Testing samples: 3\n"
     ]
    }
   ],
   "source": [
    "from sklearn.model_selection import train_test_split\n",
    "\n",
    "# Features = everything except Year & AvgClose\n",
    "X = combined_df.drop(columns=['Year', 'AvgClose'])\n",
    "y = combined_df['AvgClose']\n",
    "\n",
    "# Train-test split (80/20)\n",
    "X_train, X_test, y_train, y_test = train_test_split(\n",
    "    X, y, test_size=0.2, random_state=42\n",
    ")\n",
    "\n",
    "print(\"Training samples:\", X_train.shape[0])\n",
    "print(\"Testing samples:\", X_test.shape[0])\n"
   ]
  },
  {
   "cell_type": "code",
   "execution_count": 30,
   "id": "c696e672-88cb-4fe3-8a8e-96ba2db56b33",
   "metadata": {},
   "outputs": [
    {
     "name": "stdout",
     "output_type": "stream",
     "text": [
      "Test MAE: 2775.16\n",
      "\u001b[1m1/1\u001b[0m \u001b[32m━━━━━━━━━━━━━━━━━━━━\u001b[0m\u001b[37m\u001b[0m \u001b[1m0s\u001b[0m 150ms/step\n",
      "True: 2913.36, Predicted: 0.41\n",
      "True: 4273.39, Predicted: 0.41\n",
      "True: 1139.97, Predicted: 0.41\n"
     ]
    }
   ],
   "source": [
    "import tensorflow as tf\n",
    "from tensorflow import keras\n",
    "from tensorflow.keras import layers\n",
    "import numpy as np\n",
    "\n",
    "# Normalize features\n",
    "from sklearn.preprocessing import StandardScaler\n",
    "scaler = StandardScaler()\n",
    "X_train_scaled = scaler.fit_transform(X_train)\n",
    "X_test_scaled = scaler.transform(X_test)\n",
    "\n",
    "# Build NN\n",
    "model = keras.Sequential([\n",
    "    layers.Input(shape=(X_train.shape[1],)),\n",
    "    layers.Dense(16, activation='relu'),\n",
    "    layers.Dense(8, activation='relu'),\n",
    "    layers.Dense(1)  # regression output\n",
    "])\n",
    "\n",
    "model.compile(optimizer='adam', loss='mse', metrics=['mae'])\n",
    "\n",
    "# Train NN\n",
    "history = model.fit(\n",
    "    X_train_scaled, y_train,\n",
    "    validation_split=0.2,\n",
    "    epochs=200,\n",
    "    verbose=0  # set to 1 if you want to see training progress\n",
    ")\n",
    "\n",
    "# Evaluate\n",
    "loss, mae = model.evaluate(X_test_scaled, y_test, verbose=0)\n",
    "print(f\"Test MAE: {mae:.2f}\")\n",
    "\n",
    "# Predict absurdly\n",
    "y_pred = model.predict(X_test_scaled)\n",
    "for true_val, pred_val in zip(y_test, y_pred.flatten()):\n",
    "    print(f\"True: {true_val:.2f}, Predicted: {pred_val:.2f}\")\n"
   ]
  },
  {
   "cell_type": "code",
   "execution_count": 35,
   "id": "f63900cf-c104-4385-bf34-498952868f07",
   "metadata": {},
   "outputs": [
    {
     "name": "stdout",
     "output_type": "stream",
     "text": [
      "Clean dataset shape: (10, 8)\n",
      "Year                0\n",
      "AvgClose            0\n",
      "Danceability        5\n",
      "Energy              5\n",
      "Tempo               5\n",
      "F1ChampionPoints    0\n",
      "TempAnomaly         0\n",
      "PLChampionPoints    0\n",
      "dtype: int64\n"
     ]
    }
   ],
   "source": [
    "# Drop rows with missing values\n",
    "combined_df_clean = combined_df.dropna()\n",
    "\n",
    "# Re-split features/target\n",
    "X = combined_df_clean.drop(columns=['Year', 'AvgClose'])\n",
    "y = combined_df_clean['AvgClose']\n",
    "\n",
    "# Train-test split\n",
    "from sklearn.model_selection import train_test_split\n",
    "X_train, X_test, y_train, y_test = train_test_split(\n",
    "    X, y, test_size=0.2, random_state=42\n",
    ")\n",
    "\n",
    "print(\"Clean dataset shape:\", combined_df_clean.shape)\n",
    "print(combined_df.isna().sum())\n",
    "\n"
   ]
  },
  {
   "cell_type": "code",
   "execution_count": 34,
   "id": "68476320-1827-4fdd-b420-1da85eac08f3",
   "metadata": {},
   "outputs": [
    {
     "ename": "ValueError",
     "evalue": "Input X contains NaN.\nLinearRegression does not accept missing values encoded as NaN natively. For supervised learning, you might want to consider sklearn.ensemble.HistGradientBoostingClassifier and Regressor which accept missing values encoded as NaNs natively. Alternatively, it is possible to preprocess the data, for instance by using an imputer transformer in a pipeline or drop samples with missing values. See https://scikit-learn.org/stable/modules/impute.html You can find a list of all estimators that handle NaN values at the following page: https://scikit-learn.org/stable/modules/impute.html#estimators-that-handle-nan-values",
     "output_type": "error",
     "traceback": [
      "\u001b[31m---------------------------------------------------------------------------\u001b[39m",
      "\u001b[31mValueError\u001b[39m                                Traceback (most recent call last)",
      "\u001b[36mCell\u001b[39m\u001b[36m \u001b[39m\u001b[32mIn[34]\u001b[39m\u001b[32m, line 4\u001b[39m\n\u001b[32m      1\u001b[39m \u001b[38;5;28;01mfrom\u001b[39;00m\u001b[38;5;250m \u001b[39m\u001b[34;01msklearn\u001b[39;00m\u001b[34;01m.\u001b[39;00m\u001b[34;01mlinear_model\u001b[39;00m\u001b[38;5;250m \u001b[39m\u001b[38;5;28;01mimport\u001b[39;00m LinearRegression\n\u001b[32m      3\u001b[39m lr_model = LinearRegression()\n\u001b[32m----> \u001b[39m\u001b[32m4\u001b[39m \u001b[43mlr_model\u001b[49m\u001b[43m.\u001b[49m\u001b[43mfit\u001b[49m\u001b[43m(\u001b[49m\u001b[43mX_train_scaled\u001b[49m\u001b[43m,\u001b[49m\u001b[43m \u001b[49m\u001b[43my_train\u001b[49m\u001b[43m)\u001b[49m\n\u001b[32m      6\u001b[39m y_pred_lr = lr_model.predict(X_test_scaled)\n\u001b[32m      8\u001b[39m \u001b[38;5;28;01mfrom\u001b[39;00m\u001b[38;5;250m \u001b[39m\u001b[34;01msklearn\u001b[39;00m\u001b[34;01m.\u001b[39;00m\u001b[34;01mmetrics\u001b[39;00m\u001b[38;5;250m \u001b[39m\u001b[38;5;28;01mimport\u001b[39;00m mean_absolute_error\n",
      "\u001b[36mFile \u001b[39m\u001b[32m~\\Desktop\\tensorflow_project\\tf-env\\Lib\\site-packages\\sklearn\\base.py:1389\u001b[39m, in \u001b[36m_fit_context.<locals>.decorator.<locals>.wrapper\u001b[39m\u001b[34m(estimator, *args, **kwargs)\u001b[39m\n\u001b[32m   1382\u001b[39m     estimator._validate_params()\n\u001b[32m   1384\u001b[39m \u001b[38;5;28;01mwith\u001b[39;00m config_context(\n\u001b[32m   1385\u001b[39m     skip_parameter_validation=(\n\u001b[32m   1386\u001b[39m         prefer_skip_nested_validation \u001b[38;5;129;01mor\u001b[39;00m global_skip_validation\n\u001b[32m   1387\u001b[39m     )\n\u001b[32m   1388\u001b[39m ):\n\u001b[32m-> \u001b[39m\u001b[32m1389\u001b[39m     \u001b[38;5;28;01mreturn\u001b[39;00m \u001b[43mfit_method\u001b[49m\u001b[43m(\u001b[49m\u001b[43mestimator\u001b[49m\u001b[43m,\u001b[49m\u001b[43m \u001b[49m\u001b[43m*\u001b[49m\u001b[43margs\u001b[49m\u001b[43m,\u001b[49m\u001b[43m \u001b[49m\u001b[43m*\u001b[49m\u001b[43m*\u001b[49m\u001b[43mkwargs\u001b[49m\u001b[43m)\u001b[49m\n",
      "\u001b[36mFile \u001b[39m\u001b[32m~\\Desktop\\tensorflow_project\\tf-env\\Lib\\site-packages\\sklearn\\linear_model\\_base.py:601\u001b[39m, in \u001b[36mLinearRegression.fit\u001b[39m\u001b[34m(self, X, y, sample_weight)\u001b[39m\n\u001b[32m    597\u001b[39m n_jobs_ = \u001b[38;5;28mself\u001b[39m.n_jobs\n\u001b[32m    599\u001b[39m accept_sparse = \u001b[38;5;28;01mFalse\u001b[39;00m \u001b[38;5;28;01mif\u001b[39;00m \u001b[38;5;28mself\u001b[39m.positive \u001b[38;5;28;01melse\u001b[39;00m [\u001b[33m\"\u001b[39m\u001b[33mcsr\u001b[39m\u001b[33m\"\u001b[39m, \u001b[33m\"\u001b[39m\u001b[33mcsc\u001b[39m\u001b[33m\"\u001b[39m, \u001b[33m\"\u001b[39m\u001b[33mcoo\u001b[39m\u001b[33m\"\u001b[39m]\n\u001b[32m--> \u001b[39m\u001b[32m601\u001b[39m X, y = \u001b[43mvalidate_data\u001b[49m\u001b[43m(\u001b[49m\n\u001b[32m    602\u001b[39m \u001b[43m    \u001b[49m\u001b[38;5;28;43mself\u001b[39;49m\u001b[43m,\u001b[49m\n\u001b[32m    603\u001b[39m \u001b[43m    \u001b[49m\u001b[43mX\u001b[49m\u001b[43m,\u001b[49m\n\u001b[32m    604\u001b[39m \u001b[43m    \u001b[49m\u001b[43my\u001b[49m\u001b[43m,\u001b[49m\n\u001b[32m    605\u001b[39m \u001b[43m    \u001b[49m\u001b[43maccept_sparse\u001b[49m\u001b[43m=\u001b[49m\u001b[43maccept_sparse\u001b[49m\u001b[43m,\u001b[49m\n\u001b[32m    606\u001b[39m \u001b[43m    \u001b[49m\u001b[43my_numeric\u001b[49m\u001b[43m=\u001b[49m\u001b[38;5;28;43;01mTrue\u001b[39;49;00m\u001b[43m,\u001b[49m\n\u001b[32m    607\u001b[39m \u001b[43m    \u001b[49m\u001b[43mmulti_output\u001b[49m\u001b[43m=\u001b[49m\u001b[38;5;28;43;01mTrue\u001b[39;49;00m\u001b[43m,\u001b[49m\n\u001b[32m    608\u001b[39m \u001b[43m    \u001b[49m\u001b[43mforce_writeable\u001b[49m\u001b[43m=\u001b[49m\u001b[38;5;28;43;01mTrue\u001b[39;49;00m\u001b[43m,\u001b[49m\n\u001b[32m    609\u001b[39m \u001b[43m\u001b[49m\u001b[43m)\u001b[49m\n\u001b[32m    611\u001b[39m has_sw = sample_weight \u001b[38;5;129;01mis\u001b[39;00m \u001b[38;5;129;01mnot\u001b[39;00m \u001b[38;5;28;01mNone\u001b[39;00m\n\u001b[32m    612\u001b[39m \u001b[38;5;28;01mif\u001b[39;00m has_sw:\n",
      "\u001b[36mFile \u001b[39m\u001b[32m~\\Desktop\\tensorflow_project\\tf-env\\Lib\\site-packages\\sklearn\\utils\\validation.py:2961\u001b[39m, in \u001b[36mvalidate_data\u001b[39m\u001b[34m(_estimator, X, y, reset, validate_separately, skip_check_array, **check_params)\u001b[39m\n\u001b[32m   2959\u001b[39m         y = check_array(y, input_name=\u001b[33m\"\u001b[39m\u001b[33my\u001b[39m\u001b[33m\"\u001b[39m, **check_y_params)\n\u001b[32m   2960\u001b[39m     \u001b[38;5;28;01melse\u001b[39;00m:\n\u001b[32m-> \u001b[39m\u001b[32m2961\u001b[39m         X, y = \u001b[43mcheck_X_y\u001b[49m\u001b[43m(\u001b[49m\u001b[43mX\u001b[49m\u001b[43m,\u001b[49m\u001b[43m \u001b[49m\u001b[43my\u001b[49m\u001b[43m,\u001b[49m\u001b[43m \u001b[49m\u001b[43m*\u001b[49m\u001b[43m*\u001b[49m\u001b[43mcheck_params\u001b[49m\u001b[43m)\u001b[49m\n\u001b[32m   2962\u001b[39m     out = X, y\n\u001b[32m   2964\u001b[39m \u001b[38;5;28;01mif\u001b[39;00m \u001b[38;5;129;01mnot\u001b[39;00m no_val_X \u001b[38;5;129;01mand\u001b[39;00m check_params.get(\u001b[33m\"\u001b[39m\u001b[33mensure_2d\u001b[39m\u001b[33m\"\u001b[39m, \u001b[38;5;28;01mTrue\u001b[39;00m):\n",
      "\u001b[36mFile \u001b[39m\u001b[32m~\\Desktop\\tensorflow_project\\tf-env\\Lib\\site-packages\\sklearn\\utils\\validation.py:1370\u001b[39m, in \u001b[36mcheck_X_y\u001b[39m\u001b[34m(X, y, accept_sparse, accept_large_sparse, dtype, order, copy, force_writeable, force_all_finite, ensure_all_finite, ensure_2d, allow_nd, multi_output, ensure_min_samples, ensure_min_features, y_numeric, estimator)\u001b[39m\n\u001b[32m   1364\u001b[39m     \u001b[38;5;28;01mraise\u001b[39;00m \u001b[38;5;167;01mValueError\u001b[39;00m(\n\u001b[32m   1365\u001b[39m         \u001b[33mf\u001b[39m\u001b[33m\"\u001b[39m\u001b[38;5;132;01m{\u001b[39;00mestimator_name\u001b[38;5;132;01m}\u001b[39;00m\u001b[33m requires y to be passed, but the target y is None\u001b[39m\u001b[33m\"\u001b[39m\n\u001b[32m   1366\u001b[39m     )\n\u001b[32m   1368\u001b[39m ensure_all_finite = _deprecate_force_all_finite(force_all_finite, ensure_all_finite)\n\u001b[32m-> \u001b[39m\u001b[32m1370\u001b[39m X = \u001b[43mcheck_array\u001b[49m\u001b[43m(\u001b[49m\n\u001b[32m   1371\u001b[39m \u001b[43m    \u001b[49m\u001b[43mX\u001b[49m\u001b[43m,\u001b[49m\n\u001b[32m   1372\u001b[39m \u001b[43m    \u001b[49m\u001b[43maccept_sparse\u001b[49m\u001b[43m=\u001b[49m\u001b[43maccept_sparse\u001b[49m\u001b[43m,\u001b[49m\n\u001b[32m   1373\u001b[39m \u001b[43m    \u001b[49m\u001b[43maccept_large_sparse\u001b[49m\u001b[43m=\u001b[49m\u001b[43maccept_large_sparse\u001b[49m\u001b[43m,\u001b[49m\n\u001b[32m   1374\u001b[39m \u001b[43m    \u001b[49m\u001b[43mdtype\u001b[49m\u001b[43m=\u001b[49m\u001b[43mdtype\u001b[49m\u001b[43m,\u001b[49m\n\u001b[32m   1375\u001b[39m \u001b[43m    \u001b[49m\u001b[43morder\u001b[49m\u001b[43m=\u001b[49m\u001b[43morder\u001b[49m\u001b[43m,\u001b[49m\n\u001b[32m   1376\u001b[39m \u001b[43m    \u001b[49m\u001b[43mcopy\u001b[49m\u001b[43m=\u001b[49m\u001b[43mcopy\u001b[49m\u001b[43m,\u001b[49m\n\u001b[32m   1377\u001b[39m \u001b[43m    \u001b[49m\u001b[43mforce_writeable\u001b[49m\u001b[43m=\u001b[49m\u001b[43mforce_writeable\u001b[49m\u001b[43m,\u001b[49m\n\u001b[32m   1378\u001b[39m \u001b[43m    \u001b[49m\u001b[43mensure_all_finite\u001b[49m\u001b[43m=\u001b[49m\u001b[43mensure_all_finite\u001b[49m\u001b[43m,\u001b[49m\n\u001b[32m   1379\u001b[39m \u001b[43m    \u001b[49m\u001b[43mensure_2d\u001b[49m\u001b[43m=\u001b[49m\u001b[43mensure_2d\u001b[49m\u001b[43m,\u001b[49m\n\u001b[32m   1380\u001b[39m \u001b[43m    \u001b[49m\u001b[43mallow_nd\u001b[49m\u001b[43m=\u001b[49m\u001b[43mallow_nd\u001b[49m\u001b[43m,\u001b[49m\n\u001b[32m   1381\u001b[39m \u001b[43m    \u001b[49m\u001b[43mensure_min_samples\u001b[49m\u001b[43m=\u001b[49m\u001b[43mensure_min_samples\u001b[49m\u001b[43m,\u001b[49m\n\u001b[32m   1382\u001b[39m \u001b[43m    \u001b[49m\u001b[43mensure_min_features\u001b[49m\u001b[43m=\u001b[49m\u001b[43mensure_min_features\u001b[49m\u001b[43m,\u001b[49m\n\u001b[32m   1383\u001b[39m \u001b[43m    \u001b[49m\u001b[43mestimator\u001b[49m\u001b[43m=\u001b[49m\u001b[43mestimator\u001b[49m\u001b[43m,\u001b[49m\n\u001b[32m   1384\u001b[39m \u001b[43m    \u001b[49m\u001b[43minput_name\u001b[49m\u001b[43m=\u001b[49m\u001b[33;43m\"\u001b[39;49m\u001b[33;43mX\u001b[39;49m\u001b[33;43m\"\u001b[39;49m\u001b[43m,\u001b[49m\n\u001b[32m   1385\u001b[39m \u001b[43m\u001b[49m\u001b[43m)\u001b[49m\n\u001b[32m   1387\u001b[39m y = _check_y(y, multi_output=multi_output, y_numeric=y_numeric, estimator=estimator)\n\u001b[32m   1389\u001b[39m check_consistent_length(X, y)\n",
      "\u001b[36mFile \u001b[39m\u001b[32m~\\Desktop\\tensorflow_project\\tf-env\\Lib\\site-packages\\sklearn\\utils\\validation.py:1107\u001b[39m, in \u001b[36mcheck_array\u001b[39m\u001b[34m(array, accept_sparse, accept_large_sparse, dtype, order, copy, force_writeable, force_all_finite, ensure_all_finite, ensure_non_negative, ensure_2d, allow_nd, ensure_min_samples, ensure_min_features, estimator, input_name)\u001b[39m\n\u001b[32m   1101\u001b[39m     \u001b[38;5;28;01mraise\u001b[39;00m \u001b[38;5;167;01mValueError\u001b[39;00m(\n\u001b[32m   1102\u001b[39m         \u001b[33m\"\u001b[39m\u001b[33mFound array with dim \u001b[39m\u001b[38;5;132;01m%d\u001b[39;00m\u001b[33m. \u001b[39m\u001b[38;5;132;01m%s\u001b[39;00m\u001b[33m expected <= 2.\u001b[39m\u001b[33m\"\u001b[39m\n\u001b[32m   1103\u001b[39m         % (array.ndim, estimator_name)\n\u001b[32m   1104\u001b[39m     )\n\u001b[32m   1106\u001b[39m \u001b[38;5;28;01mif\u001b[39;00m ensure_all_finite:\n\u001b[32m-> \u001b[39m\u001b[32m1107\u001b[39m     \u001b[43m_assert_all_finite\u001b[49m\u001b[43m(\u001b[49m\n\u001b[32m   1108\u001b[39m \u001b[43m        \u001b[49m\u001b[43marray\u001b[49m\u001b[43m,\u001b[49m\n\u001b[32m   1109\u001b[39m \u001b[43m        \u001b[49m\u001b[43minput_name\u001b[49m\u001b[43m=\u001b[49m\u001b[43minput_name\u001b[49m\u001b[43m,\u001b[49m\n\u001b[32m   1110\u001b[39m \u001b[43m        \u001b[49m\u001b[43mestimator_name\u001b[49m\u001b[43m=\u001b[49m\u001b[43mestimator_name\u001b[49m\u001b[43m,\u001b[49m\n\u001b[32m   1111\u001b[39m \u001b[43m        \u001b[49m\u001b[43mallow_nan\u001b[49m\u001b[43m=\u001b[49m\u001b[43mensure_all_finite\u001b[49m\u001b[43m \u001b[49m\u001b[43m==\u001b[49m\u001b[43m \u001b[49m\u001b[33;43m\"\u001b[39;49m\u001b[33;43mallow-nan\u001b[39;49m\u001b[33;43m\"\u001b[39;49m\u001b[43m,\u001b[49m\n\u001b[32m   1112\u001b[39m \u001b[43m    \u001b[49m\u001b[43m)\u001b[49m\n\u001b[32m   1114\u001b[39m \u001b[38;5;28;01mif\u001b[39;00m copy:\n\u001b[32m   1115\u001b[39m     \u001b[38;5;28;01mif\u001b[39;00m _is_numpy_namespace(xp):\n\u001b[32m   1116\u001b[39m         \u001b[38;5;66;03m# only make a copy if `array` and `array_orig` may share memory`\u001b[39;00m\n",
      "\u001b[36mFile \u001b[39m\u001b[32m~\\Desktop\\tensorflow_project\\tf-env\\Lib\\site-packages\\sklearn\\utils\\validation.py:120\u001b[39m, in \u001b[36m_assert_all_finite\u001b[39m\u001b[34m(X, allow_nan, msg_dtype, estimator_name, input_name)\u001b[39m\n\u001b[32m    117\u001b[39m \u001b[38;5;28;01mif\u001b[39;00m first_pass_isfinite:\n\u001b[32m    118\u001b[39m     \u001b[38;5;28;01mreturn\u001b[39;00m\n\u001b[32m--> \u001b[39m\u001b[32m120\u001b[39m \u001b[43m_assert_all_finite_element_wise\u001b[49m\u001b[43m(\u001b[49m\n\u001b[32m    121\u001b[39m \u001b[43m    \u001b[49m\u001b[43mX\u001b[49m\u001b[43m,\u001b[49m\n\u001b[32m    122\u001b[39m \u001b[43m    \u001b[49m\u001b[43mxp\u001b[49m\u001b[43m=\u001b[49m\u001b[43mxp\u001b[49m\u001b[43m,\u001b[49m\n\u001b[32m    123\u001b[39m \u001b[43m    \u001b[49m\u001b[43mallow_nan\u001b[49m\u001b[43m=\u001b[49m\u001b[43mallow_nan\u001b[49m\u001b[43m,\u001b[49m\n\u001b[32m    124\u001b[39m \u001b[43m    \u001b[49m\u001b[43mmsg_dtype\u001b[49m\u001b[43m=\u001b[49m\u001b[43mmsg_dtype\u001b[49m\u001b[43m,\u001b[49m\n\u001b[32m    125\u001b[39m \u001b[43m    \u001b[49m\u001b[43mestimator_name\u001b[49m\u001b[43m=\u001b[49m\u001b[43mestimator_name\u001b[49m\u001b[43m,\u001b[49m\n\u001b[32m    126\u001b[39m \u001b[43m    \u001b[49m\u001b[43minput_name\u001b[49m\u001b[43m=\u001b[49m\u001b[43minput_name\u001b[49m\u001b[43m,\u001b[49m\n\u001b[32m    127\u001b[39m \u001b[43m\u001b[49m\u001b[43m)\u001b[49m\n",
      "\u001b[36mFile \u001b[39m\u001b[32m~\\Desktop\\tensorflow_project\\tf-env\\Lib\\site-packages\\sklearn\\utils\\validation.py:169\u001b[39m, in \u001b[36m_assert_all_finite_element_wise\u001b[39m\u001b[34m(X, xp, allow_nan, msg_dtype, estimator_name, input_name)\u001b[39m\n\u001b[32m    152\u001b[39m \u001b[38;5;28;01mif\u001b[39;00m estimator_name \u001b[38;5;129;01mand\u001b[39;00m input_name == \u001b[33m\"\u001b[39m\u001b[33mX\u001b[39m\u001b[33m\"\u001b[39m \u001b[38;5;129;01mand\u001b[39;00m has_nan_error:\n\u001b[32m    153\u001b[39m     \u001b[38;5;66;03m# Improve the error message on how to handle missing values in\u001b[39;00m\n\u001b[32m    154\u001b[39m     \u001b[38;5;66;03m# scikit-learn.\u001b[39;00m\n\u001b[32m    155\u001b[39m     msg_err += (\n\u001b[32m    156\u001b[39m         \u001b[33mf\u001b[39m\u001b[33m\"\u001b[39m\u001b[38;5;130;01m\\n\u001b[39;00m\u001b[38;5;132;01m{\u001b[39;00mestimator_name\u001b[38;5;132;01m}\u001b[39;00m\u001b[33m does not accept missing values\u001b[39m\u001b[33m\"\u001b[39m\n\u001b[32m    157\u001b[39m         \u001b[33m\"\u001b[39m\u001b[33m encoded as NaN natively. For supervised learning, you might want\u001b[39m\u001b[33m\"\u001b[39m\n\u001b[32m   (...)\u001b[39m\u001b[32m    167\u001b[39m         \u001b[33m\"\u001b[39m\u001b[33m#estimators-that-handle-nan-values\u001b[39m\u001b[33m\"\u001b[39m\n\u001b[32m    168\u001b[39m     )\n\u001b[32m--> \u001b[39m\u001b[32m169\u001b[39m \u001b[38;5;28;01mraise\u001b[39;00m \u001b[38;5;167;01mValueError\u001b[39;00m(msg_err)\n",
      "\u001b[31mValueError\u001b[39m: Input X contains NaN.\nLinearRegression does not accept missing values encoded as NaN natively. For supervised learning, you might want to consider sklearn.ensemble.HistGradientBoostingClassifier and Regressor which accept missing values encoded as NaNs natively. Alternatively, it is possible to preprocess the data, for instance by using an imputer transformer in a pipeline or drop samples with missing values. See https://scikit-learn.org/stable/modules/impute.html You can find a list of all estimators that handle NaN values at the following page: https://scikit-learn.org/stable/modules/impute.html#estimators-that-handle-nan-values"
     ]
    }
   ],
   "source": [
    "from sklearn.linear_model import LinearRegression\n",
    "\n",
    "lr_model = LinearRegression()\n",
    "lr_model.fit(X_train_scaled, y_train)\n",
    "\n",
    "y_pred_lr = lr_model.predict(X_test_scaled)\n",
    "\n",
    "from sklearn.metrics import mean_absolute_error\n",
    "mae_lr = mean_absolute_error(y_test, y_pred_lr)\n",
    "print(f\"Linear Regression MAE: {mae_lr:.2f}\")\n",
    "\n",
    "for true_val, pred_val in zip(y_test, y_pred_lr):\n",
    "    print(f\"True: {true_val:.2f}, Predicted: {pred_val:.2f}\")\n"
   ]
  },
  {
   "cell_type": "code",
   "execution_count": 31,
   "id": "f4b604aa-8530-4046-ba38-708a3b149e46",
   "metadata": {},
   "outputs": [
    {
     "data": {
      "image/png": "[encoded data removed]",
      "text/plain": [
       "<Figure size 640x480 with 1 Axes>"
      ]
     },
     "metadata": {},
     "output_type": "display_data"
    }
   ],
   "source": [
    "import matplotlib.pyplot as plt\n",
    "\n",
    "plt.scatter(y_test, y_pred, color='blue')\n",
    "plt.plot([min(y_test), max(y_test)], [min(y_test), max(y_test)], 'r--')\n",
    "plt.xlabel(\"True S&P 500 AvgClose\")\n",
    "plt.ylabel(\"Predicted\")\n",
    "plt.title(\"Absurd NN Predictions for S&P 500\")\n",
    "plt.show()\n"
   ]
  },
  {
   "cell_type": "code",
   "execution_count": null,
   "id": "cb96da29-6c46-406f-a97f-486bd3cf3629",
   "metadata": {},
   "outputs": [],
   "source": []
  },
  {
   "cell_type": "code",
   "execution_count": null,
   "id": "71e63ec1-1058-4899-97a0-52f63d770ad4",
   "metadata": {},
   "outputs": [],
   "source": []
  }
 ],
 "metadata": {
  "kernelspec": {
   "display_name": "Python (tf-env)",
   "language": "python",
   "name": "tf-env"
  },
  "language_info": {
   "codemirror_mode": {
    "name": "ipython",
    "version": 3
   },
   "file_extension": ".py",
   "mimetype": "text/x-python",
   "name": "python",
   "nbconvert_exporter": "python",
   "pygments_lexer": "ipython3",
   "version": "3.11.0"
  }
 },
 "nbformat": 4,
 "nbformat_minor": 5
}
